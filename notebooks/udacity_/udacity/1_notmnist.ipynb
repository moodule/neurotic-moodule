{
 "cells": [
  {
   "cell_type": "markdown",
   "metadata": {
    "colab_type": "text",
    "id": "5hIbr52I7Z7U"
   },
   "source": [
    "Deep Learning\n",
    "=============\n",
    "\n",
    "Assignment 1\n",
    "------------\n",
    "\n",
    "The objective of this assignment is to learn about simple data curation practices, and familiarize you with some of the data we'll be reusing later.\n",
    "\n",
    "This notebook uses the [notMNIST](http://yaroslavvb.blogspot.com/2011/09/notmnist-dataset.html) dataset to be used with python experiments. This dataset is designed to look like the classic [MNIST](http://yann.lecun.com/exdb/mnist/) dataset, while looking a little more like real data: it's a harder task, and the data is a lot less 'clean' than MNIST."
   ]
  },
  {
   "cell_type": "code",
   "execution_count": 3,
   "metadata": {
    "cellView": "both",
    "colab": {
     "autoexec": {
      "startup": false,
      "wait_interval": 0
     }
    },
    "colab_type": "code",
    "id": "apJbCsBHl-2A"
   },
   "outputs": [
    {
     "ename": "ModuleNotFoundError",
     "evalue": "No module named 'sklearn'",
     "output_type": "error",
     "traceback": [
      "\u001b[0;31m---------------------------------------------------------------------------\u001b[0m",
      "\u001b[0;31mModuleNotFoundError\u001b[0m                       Traceback (most recent call last)",
      "\u001b[0;32m<ipython-input-3-5938c8e373e4>\u001b[0m in \u001b[0;36m<module>\u001b[0;34m()\u001b[0m\n\u001b[1;32m      9\u001b[0m \u001b[0;32mfrom\u001b[0m \u001b[0mIPython\u001b[0m\u001b[0;34m.\u001b[0m\u001b[0mdisplay\u001b[0m \u001b[0;32mimport\u001b[0m \u001b[0mdisplay\u001b[0m\u001b[0;34m,\u001b[0m \u001b[0mImage\u001b[0m\u001b[0;34m\u001b[0m\u001b[0m\n\u001b[1;32m     10\u001b[0m \u001b[0;32mfrom\u001b[0m \u001b[0mscipy\u001b[0m \u001b[0;32mimport\u001b[0m \u001b[0mndimage\u001b[0m\u001b[0;34m\u001b[0m\u001b[0m\n\u001b[0;32m---> 11\u001b[0;31m \u001b[0;32mfrom\u001b[0m \u001b[0msklearn\u001b[0m\u001b[0;34m.\u001b[0m\u001b[0mlinear_model\u001b[0m \u001b[0;32mimport\u001b[0m \u001b[0mLogisticRegression\u001b[0m\u001b[0;34m\u001b[0m\u001b[0m\n\u001b[0m\u001b[1;32m     12\u001b[0m \u001b[0;32mfrom\u001b[0m \u001b[0msix\u001b[0m\u001b[0;34m.\u001b[0m\u001b[0mmoves\u001b[0m\u001b[0;34m.\u001b[0m\u001b[0murllib\u001b[0m\u001b[0;34m.\u001b[0m\u001b[0mrequest\u001b[0m \u001b[0;32mimport\u001b[0m \u001b[0murlretrieve\u001b[0m\u001b[0;34m\u001b[0m\u001b[0m\n\u001b[1;32m     13\u001b[0m \u001b[0;32mfrom\u001b[0m \u001b[0msix\u001b[0m\u001b[0;34m.\u001b[0m\u001b[0mmoves\u001b[0m \u001b[0;32mimport\u001b[0m \u001b[0mcPickle\u001b[0m \u001b[0;32mas\u001b[0m \u001b[0mpickle\u001b[0m\u001b[0;34m\u001b[0m\u001b[0m\n",
      "\u001b[0;31mModuleNotFoundError\u001b[0m: No module named 'sklearn'"
     ]
    }
   ],
   "source": [
    "# These are all the modules we'll be using later. Make sure you can import them\n",
    "# before proceeding further.\n",
    "from __future__ import print_function\n",
    "import matplotlib.pyplot as plt\n",
    "import numpy as np\n",
    "import os\n",
    "import sys\n",
    "import tarfile\n",
    "from IPython.display import display, Image\n",
    "from scipy import ndimage\n",
    "from sklearn.linear_model import LogisticRegression\n",
    "from six.moves.urllib.request import urlretrieve\n",
    "from six.moves import cPickle as pickle"
   ]
  },
  {
   "cell_type": "markdown",
   "metadata": {
    "colab_type": "text",
    "id": "jNWGtZaXn-5j"
   },
   "source": [
    "First, we'll download the dataset to our local machine. The data consists of characters rendered in a variety of fonts on a 28x28 image. The labels are limited to 'A' through 'J' (10 classes). The training set has about 500k and the testset 19000 labelled examples. Given these sizes, it should be possible to train models quickly on any machine."
   ]
  },
  {
   "cell_type": "code",
   "execution_count": 2,
   "metadata": {
    "cellView": "both",
    "colab": {
     "autoexec": {
      "startup": false,
      "wait_interval": 0
     },
     "output_extras": [
      {
       "item_id": 1
      }
     ]
    },
    "colab_type": "code",
    "executionInfo": {
     "elapsed": 186058,
     "status": "ok",
     "timestamp": 1444485672507,
     "user": {
      "color": "#1FA15D",
      "displayName": "Vincent Vanhoucke",
      "isAnonymous": false,
      "isMe": true,
      "permissionId": "05076109866853157986",
      "photoUrl": "//lh6.googleusercontent.com/-cCJa7dTDcgQ/AAAAAAAAAAI/AAAAAAAACgw/r2EZ_8oYer4/s50-c-k-no/photo.jpg",
      "sessionId": "2a0a5e044bb03b66",
      "userId": "102167687554210253930"
     },
     "user_tz": 420
    },
    "id": "EYRJ4ICW6-da",
    "outputId": "0d0f85df-155f-4a89-8e7e-ee32df36ec8d"
   },
   "outputs": [
    {
     "ename": "NameError",
     "evalue": "name 'urlretrieve' is not defined",
     "output_type": "error",
     "traceback": [
      "\u001b[0;31m---------------------------------------------------------------------------\u001b[0m",
      "\u001b[0;31mNameError\u001b[0m                                 Traceback (most recent call last)",
      "\u001b[0;32m<ipython-input-2-a188ba0cf87d>\u001b[0m in \u001b[0;36m<module>\u001b[0;34m()\u001b[0m\n\u001b[1;32m     13\u001b[0m   \u001b[0;32mreturn\u001b[0m \u001b[0mfilename\u001b[0m\u001b[0;34m\u001b[0m\u001b[0m\n\u001b[1;32m     14\u001b[0m \u001b[0;34m\u001b[0m\u001b[0m\n\u001b[0;32m---> 15\u001b[0;31m \u001b[0mtrain_filename\u001b[0m \u001b[0;34m=\u001b[0m \u001b[0mmaybe_download\u001b[0m\u001b[0;34m(\u001b[0m\u001b[0;34m'notMNIST_large.tar.gz'\u001b[0m\u001b[0;34m,\u001b[0m \u001b[0;36m247336696\u001b[0m\u001b[0;34m)\u001b[0m\u001b[0;34m\u001b[0m\u001b[0m\n\u001b[0m\u001b[1;32m     16\u001b[0m \u001b[0mtest_filename\u001b[0m \u001b[0;34m=\u001b[0m \u001b[0mmaybe_download\u001b[0m\u001b[0;34m(\u001b[0m\u001b[0;34m'notMNIST_small.tar.gz'\u001b[0m\u001b[0;34m,\u001b[0m \u001b[0;36m8458043\u001b[0m\u001b[0;34m)\u001b[0m\u001b[0;34m\u001b[0m\u001b[0m\n",
      "\u001b[0;32m<ipython-input-2-a188ba0cf87d>\u001b[0m in \u001b[0;36mmaybe_download\u001b[0;34m(filename, expected_bytes, force)\u001b[0m\n\u001b[1;32m      4\u001b[0m   \u001b[0;34m\"\"\"Download a file if not present, and make sure it's the right size.\"\"\"\u001b[0m\u001b[0;34m\u001b[0m\u001b[0m\n\u001b[1;32m      5\u001b[0m   \u001b[0;32mif\u001b[0m \u001b[0mforce\u001b[0m \u001b[0;32mor\u001b[0m \u001b[0;32mnot\u001b[0m \u001b[0mos\u001b[0m\u001b[0;34m.\u001b[0m\u001b[0mpath\u001b[0m\u001b[0;34m.\u001b[0m\u001b[0mexists\u001b[0m\u001b[0;34m(\u001b[0m\u001b[0mfilename\u001b[0m\u001b[0;34m)\u001b[0m\u001b[0;34m:\u001b[0m\u001b[0;34m\u001b[0m\u001b[0m\n\u001b[0;32m----> 6\u001b[0;31m     \u001b[0mfilename\u001b[0m\u001b[0;34m,\u001b[0m \u001b[0m_\u001b[0m \u001b[0;34m=\u001b[0m \u001b[0murlretrieve\u001b[0m\u001b[0;34m(\u001b[0m\u001b[0murl\u001b[0m \u001b[0;34m+\u001b[0m \u001b[0mfilename\u001b[0m\u001b[0;34m,\u001b[0m \u001b[0mfilename\u001b[0m\u001b[0;34m)\u001b[0m\u001b[0;34m\u001b[0m\u001b[0m\n\u001b[0m\u001b[1;32m      7\u001b[0m   \u001b[0mstatinfo\u001b[0m \u001b[0;34m=\u001b[0m \u001b[0mos\u001b[0m\u001b[0;34m.\u001b[0m\u001b[0mstat\u001b[0m\u001b[0;34m(\u001b[0m\u001b[0mfilename\u001b[0m\u001b[0;34m)\u001b[0m\u001b[0;34m\u001b[0m\u001b[0m\n\u001b[1;32m      8\u001b[0m   \u001b[0;32mif\u001b[0m \u001b[0mstatinfo\u001b[0m\u001b[0;34m.\u001b[0m\u001b[0mst_size\u001b[0m \u001b[0;34m==\u001b[0m \u001b[0mexpected_bytes\u001b[0m\u001b[0;34m:\u001b[0m\u001b[0;34m\u001b[0m\u001b[0m\n",
      "\u001b[0;31mNameError\u001b[0m: name 'urlretrieve' is not defined"
     ]
    }
   ],
   "source": [
    "url = 'http://yaroslavvb.com/upload/notMNIST/'\n",
    "\n",
    "def maybe_download(filename, expected_bytes, force=False):\n",
    "  \"\"\"Download a file if not present, and make sure it's the right size.\"\"\"\n",
    "  if force or not os.path.exists(filename):\n",
    "    filename, _ = urlretrieve(url + filename, filename)\n",
    "  statinfo = os.stat(filename)\n",
    "  if statinfo.st_size == expected_bytes:\n",
    "    print('Found and verified', filename)\n",
    "  else:\n",
    "    raise Exception(\n",
    "      'Failed to verify' + filename + '. Can you get to it with a browser?')\n",
    "  return filename\n",
    "\n",
    "train_filename = maybe_download('notMNIST_large.tar.gz', 247336696)\n",
    "test_filename = maybe_download('notMNIST_small.tar.gz', 8458043)"
   ]
  },
  {
   "cell_type": "markdown",
   "metadata": {
    "colab_type": "text",
    "id": "cC3p0oEyF8QT"
   },
   "source": [
    "Extract the dataset from the compressed .tar.gz file.\n",
    "This should give you a set of directories, labelled A through J."
   ]
  },
  {
   "cell_type": "code",
   "execution_count": 3,
   "metadata": {
    "cellView": "both",
    "colab": {
     "autoexec": {
      "startup": false,
      "wait_interval": 0
     },
     "output_extras": [
      {
       "item_id": 1
      }
     ]
    },
    "colab_type": "code",
    "executionInfo": {
     "elapsed": 186055,
     "status": "ok",
     "timestamp": 1444485672525,
     "user": {
      "color": "#1FA15D",
      "displayName": "Vincent Vanhoucke",
      "isAnonymous": false,
      "isMe": true,
      "permissionId": "05076109866853157986",
      "photoUrl": "//lh6.googleusercontent.com/-cCJa7dTDcgQ/AAAAAAAAAAI/AAAAAAAACgw/r2EZ_8oYer4/s50-c-k-no/photo.jpg",
      "sessionId": "2a0a5e044bb03b66",
      "userId": "102167687554210253930"
     },
     "user_tz": 420
    },
    "id": "H8CBE-WZ8nmj",
    "outputId": "ef6c790c-2513-4b09-962e-27c79390c762"
   },
   "outputs": [
    {
     "name": "stdout",
     "output_type": "stream",
     "text": [
      "notMNIST_large already present - Skipping extraction of notMNIST_large.tar.gz.\n",
      "['notMNIST_large/A', 'notMNIST_large/B', 'notMNIST_large/C', 'notMNIST_large/D', 'notMNIST_large/E', 'notMNIST_large/F', 'notMNIST_large/G', 'notMNIST_large/H', 'notMNIST_large/I', 'notMNIST_large/J']\n",
      "notMNIST_small already present - Skipping extraction of notMNIST_small.tar.gz.\n",
      "['notMNIST_small/A', 'notMNIST_small/B', 'notMNIST_small/C', 'notMNIST_small/D', 'notMNIST_small/E', 'notMNIST_small/F', 'notMNIST_small/G', 'notMNIST_small/H', 'notMNIST_small/I', 'notMNIST_small/J']\n"
     ]
    }
   ],
   "source": [
    "num_classes = 10\n",
    "np.random.seed(133)\n",
    "\n",
    "def maybe_extract(filename, force=False):\n",
    "  root = os.path.splitext(os.path.splitext(filename)[0])[0]  # remove .tar.gz\n",
    "  if os.path.isdir(root) and not force:\n",
    "    # You may override by setting force=True.\n",
    "    print('%s already present - Skipping extraction of %s.' % (root, filename))\n",
    "  else:\n",
    "    print('Extracting data for %s. This may take a while. Please wait.' % root)\n",
    "    tar = tarfile.open(filename)\n",
    "    sys.stdout.flush()\n",
    "    tar.extractall()\n",
    "    tar.close()\n",
    "  data_folders = [\n",
    "    os.path.join(root, d) for d in sorted(os.listdir(root))\n",
    "    if os.path.isdir(os.path.join(root, d))]\n",
    "  if len(data_folders) != num_classes:\n",
    "    raise Exception(\n",
    "      'Expected %d folders, one per class. Found %d instead.' % (\n",
    "        num_classes, len(data_folders)))\n",
    "  print(data_folders)\n",
    "  return data_folders\n",
    "  \n",
    "train_folders = maybe_extract(train_filename)\n",
    "test_folders = maybe_extract(test_filename)"
   ]
  },
  {
   "cell_type": "code",
   "execution_count": 4,
   "metadata": {
    "colab_type": "text",
    "id": "4riXK3IoHgx6"
   },
   "outputs": [
    {
     "name": "stdout",
     "output_type": "stream",
     "text": [
      "['notMNIST_large/A', 'notMNIST_large/B', 'notMNIST_large/C', 'notMNIST_large/D', 'notMNIST_large/E', 'notMNIST_large/F', 'notMNIST_large/G', 'notMNIST_large/H', 'notMNIST_large/I', 'notMNIST_large/J']\n"
     ]
    },
    {
     "data": {
      "image/png": "[encoded data removed]",
      "text/plain": [
       "<IPython.core.display.Image object>"
      ]
     },
     "metadata": {},
     "output_type": "display_data"
    },
    {
     "data": {
      "image/png": "[encoded data removed]",
      "text/plain": [
       "<IPython.core.display.Image object>"
      ]
     },
     "metadata": {},
     "output_type": "display_data"
    },
    {
     "data": {
      "image/png": "[encoded data removed]",
      "text/plain": [
       "<IPython.core.display.Image object>"
      ]
     },
     "metadata": {},
     "output_type": "display_data"
    },
    {
     "data": {
      "image/png": "[encoded data removed]",
      "text/plain": [
       "<IPython.core.display.Image object>"
      ]
     },
     "metadata": {},
     "output_type": "display_data"
    },
    {
     "data": {
      "image/png": "[encoded data removed]",
      "text/plain": [
       "<IPython.core.display.Image object>"
      ]
     },
     "metadata": {},
     "output_type": "display_data"
    },
    {
     "data": {
      "image/png": "[encoded data removed]",
      "text/plain": [
       "<IPython.core.display.Image object>"
      ]
     },
     "metadata": {},
     "output_type": "display_data"
    },
    {
     "data": {
      "image/png": "[encoded data removed]",
      "text/plain": [
       "<IPython.core.display.Image object>"
      ]
     },
     "metadata": {},
     "output_type": "display_data"
    },
    {
     "data": {
      "image/png": "[encoded data removed]",
      "text/plain": [
       "<IPython.core.display.Image object>"
      ]
     },
     "metadata": {},
     "output_type": "display_data"
    },
    {
     "data": {
      "image/png": "[encoded data removed]",
      "text/plain": [
       "<IPython.core.display.Image object>"
      ]
     },
     "metadata": {},
     "output_type": "display_data"
    },
    {
     "data": {
      "image/png": "[encoded data removed]",
      "text/plain": [
       "<IPython.core.display.Image object>"
      ]
     },
     "metadata": {},
     "output_type": "display_data"
    },
    {
     "data": {
      "image/png": "[encoded data removed]",
      "text/plain": [
       "<IPython.core.display.Image object>"
      ]
     },
     "metadata": {},
     "output_type": "display_data"
    },
    {
     "data": {
      "image/png": "[encoded data removed]",
      "text/plain": [
       "<IPython.core.display.Image object>"
      ]
     },
     "metadata": {},
     "output_type": "display_data"
    },
    {
     "data": {
      "image/png": "[encoded data removed]",
      "text/plain": [
       "<IPython.core.display.Image object>"
      ]
     },
     "metadata": {},
     "output_type": "display_data"
    },
    {
     "data": {
      "image/png": "[encoded data removed]",
      "text/plain": [
       "<IPython.core.display.Image object>"
      ]
     },
     "metadata": {},
     "output_type": "display_data"
    },
    {
     "data": {
      "image/png": "[encoded data removed]",
      "text/plain": [
       "<IPython.core.display.Image object>"
      ]
     },
     "metadata": {},
     "output_type": "display_data"
    },
    {
     "data": {
      "image/png": "[encoded data removed]",
      "text/plain": [
       "<IPython.core.display.Image object>"
      ]
     },
     "metadata": {},
     "output_type": "display_data"
    },
    {
     "data": {
      "image/png": "[encoded data removed]",
      "text/plain": [
       "<IPython.core.display.Image object>"
      ]
     },
     "metadata": {},
     "output_type": "display_data"
    },
    {
     "data": {
      "image/png": "[encoded data removed]",
      "text/plain": [
       "<IPython.core.display.Image object>"
      ]
     },
     "metadata": {},
     "output_type": "display_data"
    },
    {
     "data": {
      "image/png": "[encoded data removed]",
      "text/plain": [
       "<IPython.core.display.Image object>"
      ]
     },
     "metadata": {},
     "output_type": "display_data"
    },
    {
     "data": {
      "image/png": "[encoded data removed]",
      "text/plain": [
       "<IPython.core.display.Image object>"
      ]
     },
     "metadata": {},
     "output_type": "display_data"
    },
    {
     "data": {
      "image/png": "[encoded data removed]",
      "text/plain": [
       "<IPython.core.display.Image object>"
      ]
     },
     "metadata": {},
     "output_type": "display_data"
    },
    {
     "data": {
      "image/png": "[encoded data removed]",
      "text/plain": [
       "<IPython.core.display.Image object>"
      ]
     },
     "metadata": {},
     "output_type": "display_data"
    },
    {
     "data": {
      "image/png": "[encoded data removed]",
      "text/plain": [
       "<IPython.core.display.Image object>"
      ]
     },
     "metadata": {},
     "output_type": "display_data"
    },
    {
     "data": {
      "image/png": "[encoded data removed]",
      "text/plain": [
       "<IPython.core.display.Image object>"
      ]
     },
     "metadata": {},
     "output_type": "display_data"
    },
    {
     "data": {
      "image/png": "[encoded data removed]",
      "text/plain": [
       "<IPython.core.display.Image object>"
      ]
     },
     "metadata": {},
     "output_type": "display_data"
    },
    {
     "data": {
      "image/png": "[encoded data removed]",
      "text/plain": [
       "<IPython.core.display.Image object>"
      ]
     },
     "metadata": {},
     "output_type": "display_data"
    },
    {
     "data": {
      "image/png": "[encoded data removed]",
      "text/plain": [
       "<IPython.core.display.Image object>"
      ]
     },
     "metadata": {},
     "output_type": "display_data"
    },
    {
     "data": {
      "image/png": "[encoded data removed]",
      "text/plain": [
       "<IPython.core.display.Image object>"
      ]
     },
     "metadata": {},
     "output_type": "display_data"
    },
    {
     "data": {
      "image/png": "[encoded data removed]",
      "text/plain": [
       "<IPython.core.display.Image object>"
      ]
     },
     "metadata": {},
     "output_type": "display_data"
    },
    {
     "data": {
      "image/png": "[encoded data removed]",
      "text/plain": [
       "<IPython.core.display.Image object>"
      ]
     },
     "metadata": {},
     "output_type": "display_data"
    }
   ],
   "source": [
    "Image(filename='notMNIST_small/I/Q0NTcG9va3l0b290aC1SZWd1bGFyLnR0Zg==.png')\n",
    "print(train_folders)\n",
    "for i in range(10):\n",
    "    train_files = os.listdir(train_folders[i])\n",
    "    for j in range(3):\n",
    "        current_file = os.path.join(train_folders[i], train_files[j])\n",
    "        display(Image(filename=current_file))"
   ]
  },
  {
   "cell_type": "markdown",
   "metadata": {
    "colab_type": "text",
    "id": "PBdkjESPK8tw"
   },
   "source": [
    "Now let's load the data in a more manageable format. Since, depending on your computer setup you might not be able to fit it all in memory, we'll load each class into a separate dataset, store them on disk and curate them independently. Later we'll merge them into a single dataset of manageable size.\n",
    "\n",
    "We'll convert the entire dataset into a 3D array (image index, x, y) of floating point values, normalized to have approximately zero mean and standard deviation ~0.5 to make training easier down the road. \n",
    "\n",
    "A few images might not be readable, we'll just skip them."
   ]
  },
  {
   "cell_type": "code",
   "execution_count": 5,
   "metadata": {
    "cellView": "both",
    "colab": {
     "autoexec": {
      "startup": false,
      "wait_interval": 0
     },
     "output_extras": [
      {
       "item_id": 30
      }
     ]
    },
    "colab_type": "code",
    "executionInfo": {
     "elapsed": 399874,
     "status": "ok",
     "timestamp": 1444485886378,
     "user": {
      "color": "#1FA15D",
      "displayName": "Vincent Vanhoucke",
      "isAnonymous": false,
      "isMe": true,
      "permissionId": "05076109866853157986",
      "photoUrl": "//lh6.googleusercontent.com/-cCJa7dTDcgQ/AAAAAAAAAAI/AAAAAAAACgw/r2EZ_8oYer4/s50-c-k-no/photo.jpg",
      "sessionId": "2a0a5e044bb03b66",
      "userId": "102167687554210253930"
     },
     "user_tz": 420
    },
    "id": "h7q0XhG3MJdf",
    "outputId": "92c391bb-86ff-431d-9ada-315568a19e59"
   },
   "outputs": [
    {
     "name": "stdout",
     "output_type": "stream",
     "text": [
      "notMNIST_large/A.pickle already present - Skipping pickling.\n",
      "notMNIST_large/B.pickle already present - Skipping pickling.\n",
      "notMNIST_large/C.pickle already present - Skipping pickling.\n",
      "notMNIST_large/D.pickle already present - Skipping pickling.\n",
      "notMNIST_large/E.pickle already present - Skipping pickling.\n",
      "notMNIST_large/F.pickle already present - Skipping pickling.\n",
      "notMNIST_large/G.pickle already present - Skipping pickling.\n",
      "notMNIST_large/H.pickle already present - Skipping pickling.\n",
      "notMNIST_large/I.pickle already present - Skipping pickling.\n",
      "notMNIST_large/J.pickle already present - Skipping pickling.\n",
      "notMNIST_small/A.pickle already present - Skipping pickling.\n",
      "notMNIST_small/B.pickle already present - Skipping pickling.\n",
      "notMNIST_small/C.pickle already present - Skipping pickling.\n",
      "notMNIST_small/D.pickle already present - Skipping pickling.\n",
      "notMNIST_small/E.pickle already present - Skipping pickling.\n",
      "notMNIST_small/F.pickle already present - Skipping pickling.\n",
      "notMNIST_small/G.pickle already present - Skipping pickling.\n",
      "notMNIST_small/H.pickle already present - Skipping pickling.\n",
      "notMNIST_small/I.pickle already present - Skipping pickling.\n",
      "notMNIST_small/J.pickle already present - Skipping pickling.\n"
     ]
    }
   ],
   "source": [
    "image_size = 28  # Pixel width and height.\n",
    "pixel_depth = 255.0  # Number of levels per pixel.\n",
    "\n",
    "def load_letter(folder, min_num_images):\n",
    "  \"\"\"Load the data for a single letter label.\"\"\"\n",
    "  image_files = os.listdir(folder)\n",
    "  dataset = np.ndarray(shape=(len(image_files), image_size, image_size),\n",
    "                         dtype=np.float32)\n",
    "  image_index = 0\n",
    "  print(folder)\n",
    "  for image in os.listdir(folder):\n",
    "    image_file = os.path.join(folder, image)\n",
    "    try:\n",
    "      image_data = (ndimage.imread(image_file).astype(float) - \n",
    "                    pixel_depth / 2) / pixel_depth\n",
    "      if image_data.shape != (image_size, image_size):\n",
    "        raise Exception('Unexpected image shape: %s' % str(image_data.shape))\n",
    "      dataset[image_index, :, :] = image_data\n",
    "      image_index += 1\n",
    "    except IOError as e:\n",
    "      print('Could not read:', image_file, ':', e, '- it\\'s ok, skipping.')\n",
    "    \n",
    "  num_images = image_index\n",
    "  dataset = dataset[0:num_images, :, :]\n",
    "  if num_images < min_num_images:\n",
    "    raise Exception('Many fewer images than expected: %d < %d' %\n",
    "                    (num_images, min_num_images))\n",
    "    \n",
    "  print('Full dataset tensor:', dataset.shape)\n",
    "  print('Mean:', np.mean(dataset))\n",
    "  print('Standard deviation:', np.std(dataset))\n",
    "  return dataset\n",
    "        \n",
    "def maybe_pickle(data_folders, min_num_images_per_class, force=False):\n",
    "  dataset_names = []\n",
    "  for folder in data_folders:\n",
    "    set_filename = folder + '.pickle'\n",
    "    dataset_names.append(set_filename)\n",
    "    if os.path.exists(set_filename) and not force:\n",
    "      # You may override by setting force=True.\n",
    "      print('%s already present - Skipping pickling.' % set_filename)\n",
    "    else:\n",
    "      print('Pickling %s.' % set_filename)\n",
    "      dataset = load_letter(folder, min_num_images_per_class)\n",
    "      try:\n",
    "        with open(set_filename, 'wb') as f:\n",
    "          pickle.dump(dataset, f, pickle.HIGHEST_PROTOCOL)\n",
    "      except Exception as e:\n",
    "        print('Unable to save data to', set_filename, ':', e)\n",
    "  \n",
    "  return dataset_names\n",
    "\n",
    "train_datasets = maybe_pickle(train_folders, 45000)\n",
    "test_datasets = maybe_pickle(test_folders, 1800)"
   ]
  },
  {
   "cell_type": "markdown",
   "metadata": {
    "colab_type": "text",
    "id": "vUdbskYE2d87"
   },
   "source": [
    "---\n",
    "Problem 2\n",
    "---------\n",
    "\n",
    "Let's verify that the data still looks good. Displaying a sample of the labels and images from the ndarray. Hint: you can use matplotlib.pyplot.\n",
    "\n",
    "---"
   ]
  },
  {
   "cell_type": "code",
   "execution_count": 6,
   "metadata": {
    "raw_mimetype": "text/x-python"
   },
   "outputs": [
    {
     "name": "stdout",
     "output_type": "stream",
     "text": [
      "A\n",
      "B\n",
      "C\n",
      "D\n",
      "E\n",
      "F\n",
      "G\n",
      "H\n",
      "I\n",
      "J\n"
     ]
    },
    {
     "data": {
      "image/png": "[encoded data removed]",
      "text/plain": [
       "<matplotlib.figure.Figure at 0x7f6834bfdd50>"
      ]
     },
     "metadata": {},
     "output_type": "display_data"
    }
   ],
   "source": [
    "classes = [chr(ord('A')+i) for i in range(10)]\n",
    "\n",
    "%matplotlib inline\n",
    "\n",
    "for i in range(10):\n",
    "    print(classes[i])\n",
    "    data_file = open(train_datasets[i], 'r')\n",
    "    data_set = pickle.load(data_file)\n",
    "    sample_image = data_set[5987, :, :]\n",
    "    plt.imshow(sample_image)"
   ]
  },
  {
   "cell_type": "markdown",
   "metadata": {
    "colab_type": "text",
    "id": "cYznx5jUwzoO"
   },
   "source": [
    "---\n",
    "Problem 3\n",
    "---------\n",
    "Another check: we expect the data to be balanced across classes. Verify that.\n",
    "\n",
    "---"
   ]
  },
  {
   "cell_type": "code",
   "execution_count": 7,
   "metadata": {},
   "outputs": [
    {
     "name": "stdout",
     "output_type": "stream",
     "text": [
      "A (52909, 28, 28)\n",
      "B (52911, 28, 28)\n",
      "C (52912, 28, 28)\n",
      "D (52911, 28, 28)\n",
      "E (52912, 28, 28)\n",
      "F (52912, 28, 28)\n",
      "G (52912, 28, 28)\n",
      "H (52912, 28, 28)\n",
      "I (52912, 28, 28)\n",
      "J (52911, 28, 28)\n"
     ]
    }
   ],
   "source": [
    "for i in range(10):\n",
    "    data_file = open(train_datasets[i], 'r')\n",
    "    data_set = pickle.load(data_file)\n",
    "    print(classes[i], data_set.shape)"
   ]
  },
  {
   "cell_type": "markdown",
   "metadata": {
    "colab_type": "text",
    "id": "LA7M7K22ynCt"
   },
   "source": [
    "Merge and prune the training data as needed. Depending on your computer setup, you might not be able to fit it all in memory, and you can tune `train_size` as needed. The labels will be stored into a separate array of integers 0 through 9.\n",
    "\n",
    "Also create a validation dataset for hyperparameter tuning."
   ]
  },
  {
   "cell_type": "code",
   "execution_count": 8,
   "metadata": {
    "cellView": "both",
    "colab": {
     "autoexec": {
      "startup": false,
      "wait_interval": 0
     },
     "output_extras": [
      {
       "item_id": 1
      }
     ]
    },
    "colab_type": "code",
    "executionInfo": {
     "elapsed": 411281,
     "status": "ok",
     "timestamp": 1444485897869,
     "user": {
      "color": "#1FA15D",
      "displayName": "Vincent Vanhoucke",
      "isAnonymous": false,
      "isMe": true,
      "permissionId": "05076109866853157986",
      "photoUrl": "//lh6.googleusercontent.com/-cCJa7dTDcgQ/AAAAAAAAAAI/AAAAAAAACgw/r2EZ_8oYer4/s50-c-k-no/photo.jpg",
      "sessionId": "2a0a5e044bb03b66",
      "userId": "102167687554210253930"
     },
     "user_tz": 420
    },
    "id": "s3mWgZLpyuzq",
    "outputId": "8af66da6-902d-4719-bedc-7c9fb7ae7948"
   },
   "outputs": [
    {
     "name": "stdout",
     "output_type": "stream",
     "text": [
      "Training: (200000, 28, 28) (200000,)\n",
      "Validation: (10000, 28, 28) (10000,)\n",
      "Testing: (10000, 28, 28) (10000,)\n"
     ]
    }
   ],
   "source": [
    "def make_arrays(nb_rows, img_size):\n",
    "  if nb_rows:\n",
    "    dataset = np.ndarray((nb_rows, img_size, img_size), dtype=np.float32)\n",
    "    labels = np.ndarray(nb_rows, dtype=np.int32)\n",
    "  else:\n",
    "    dataset, labels = None, None\n",
    "  return dataset, labels\n",
    "\n",
    "def merge_datasets(pickle_files, train_size, valid_size=0):\n",
    "  num_classes = len(pickle_files)\n",
    "  valid_dataset, valid_labels = make_arrays(valid_size, image_size)\n",
    "  train_dataset, train_labels = make_arrays(train_size, image_size)\n",
    "  vsize_per_class = valid_size // num_classes\n",
    "  tsize_per_class = train_size // num_classes\n",
    "    \n",
    "  start_v, start_t = 0, 0\n",
    "  end_v, end_t = vsize_per_class, tsize_per_class\n",
    "  end_l = vsize_per_class+tsize_per_class\n",
    "  for label, pickle_file in enumerate(pickle_files):       \n",
    "    try:\n",
    "      with open(pickle_file, 'rb') as f:\n",
    "        letter_set = pickle.load(f)\n",
    "        # let's shuffle the letters to have random validation and training set\n",
    "        np.random.shuffle(letter_set)\n",
    "        if valid_dataset is not None:\n",
    "          valid_letter = letter_set[:vsize_per_class, :, :]\n",
    "          valid_dataset[start_v:end_v, :, :] = valid_letter\n",
    "          valid_labels[start_v:end_v] = label\n",
    "          start_v += vsize_per_class\n",
    "          end_v += vsize_per_class\n",
    "                    \n",
    "        train_letter = letter_set[vsize_per_class:end_l, :, :]\n",
    "        train_dataset[start_t:end_t, :, :] = train_letter\n",
    "        train_labels[start_t:end_t] = label\n",
    "        start_t += tsize_per_class\n",
    "        end_t += tsize_per_class\n",
    "    except Exception as e:\n",
    "      print('Unable to process data from', pickle_file, ':', e)\n",
    "      raise\n",
    "    \n",
    "  return valid_dataset, valid_labels, train_dataset, train_labels\n",
    "            \n",
    "            \n",
    "train_size = 200000\n",
    "valid_size = 10000\n",
    "test_size = 10000\n",
    "\n",
    "valid_dataset, valid_labels, train_dataset, train_labels = merge_datasets(\n",
    "  train_datasets, train_size, valid_size)\n",
    "_, _, test_dataset, test_labels = merge_datasets(test_datasets, test_size)\n",
    "\n",
    "print('Training:', train_dataset.shape, train_labels.shape)\n",
    "print('Validation:', valid_dataset.shape, valid_labels.shape)\n",
    "print('Testing:', test_dataset.shape, test_labels.shape)"
   ]
  },
  {
   "cell_type": "markdown",
   "metadata": {
    "colab_type": "text",
    "id": "GPTCnjIcyuKN"
   },
   "source": [
    "Next, we'll randomize the data. It's important to have the labels well shuffled for the training and test distributions to match."
   ]
  },
  {
   "cell_type": "code",
   "execution_count": 9,
   "metadata": {
    "cellView": "both",
    "colab": {
     "autoexec": {
      "startup": false,
      "wait_interval": 0
     }
    },
    "colab_type": "code",
    "collapsed": true,
    "id": "6WZ2l2tN2zOL"
   },
   "outputs": [],
   "source": [
    "def randomize(dataset, labels):\n",
    "  permutation = np.random.permutation(labels.shape[0])\n",
    "  shuffled_dataset = dataset[permutation,:,:]\n",
    "  shuffled_labels = labels[permutation]\n",
    "  return shuffled_dataset, shuffled_labels\n",
    "\n",
    "train_dataset, train_labels = randomize(train_dataset, train_labels)\n",
    "test_dataset, test_labels = randomize(test_dataset, test_labels)\n",
    "valid_dataset, valid_labels = randomize(valid_dataset, valid_labels)"
   ]
  },
  {
   "cell_type": "markdown",
   "metadata": {
    "colab_type": "text",
    "id": "puDUTe6t6USl"
   },
   "source": [
    "---\n",
    "Problem 4\n",
    "---------\n",
    "Convince yourself that the data is still good after shuffling!\n",
    "\n",
    "---"
   ]
  },
  {
   "cell_type": "code",
   "execution_count": 10,
   "metadata": {},
   "outputs": [
    {
     "name": "stdout",
     "output_type": "stream",
     "text": [
      "187606 G\n"
     ]
    },
    {
     "data": {
      "text/plain": [
       "<matplotlib.image.AxesImage at 0x7f683507bb90>"
      ]
     },
     "execution_count": 10,
     "metadata": {},
     "output_type": "execute_result"
    },
    {
     "data": {
      "image/png": "[encoded data removed]",
      "text/plain": [
       "<matplotlib.figure.Figure at 0x7f683523d590>"
      ]
     },
     "metadata": {},
     "output_type": "display_data"
    }
   ],
   "source": [
    "i = np.random.randint(0, train_dataset.shape[0])\n",
    "sample_image = train_dataset[i, :, :]\n",
    "sample_class = train_labels[i]\n",
    "print(i,classes[sample_class])\n",
    "plt.imshow(sample_image)"
   ]
  },
  {
   "cell_type": "markdown",
   "metadata": {
    "colab_type": "text",
    "id": "tIQJaJuwg5Hw"
   },
   "source": [
    "Finally, let's save the data for later reuse:"
   ]
  },
  {
   "cell_type": "code",
   "execution_count": 11,
   "metadata": {
    "cellView": "both",
    "colab": {
     "autoexec": {
      "startup": false,
      "wait_interval": 0
     }
    },
    "colab_type": "code",
    "collapsed": true,
    "id": "QiR_rETzem6C"
   },
   "outputs": [],
   "source": [
    "pickle_file = 'notMNIST.pickle'\n",
    "\n",
    "try:\n",
    "  f = open(pickle_file, 'wb')\n",
    "  save = {\n",
    "    'train_dataset': train_dataset,\n",
    "    'train_labels': train_labels,\n",
    "    'valid_dataset': valid_dataset,\n",
    "    'valid_labels': valid_labels,\n",
    "    'test_dataset': test_dataset,\n",
    "    'test_labels': test_labels,\n",
    "    }\n",
    "  pickle.dump(save, f, pickle.HIGHEST_PROTOCOL)\n",
    "  f.close()\n",
    "except Exception as e:\n",
    "  print('Unable to save data to', pickle_file, ':', e)\n",
    "  raise"
   ]
  },
  {
   "cell_type": "code",
   "execution_count": 12,
   "metadata": {
    "cellView": "both",
    "colab": {
     "autoexec": {
      "startup": false,
      "wait_interval": 0
     },
     "output_extras": [
      {
       "item_id": 1
      }
     ]
    },
    "colab_type": "code",
    "executionInfo": {
     "elapsed": 413065,
     "status": "ok",
     "timestamp": 1444485899688,
     "user": {
      "color": "#1FA15D",
      "displayName": "Vincent Vanhoucke",
      "isAnonymous": false,
      "isMe": true,
      "permissionId": "05076109866853157986",
      "photoUrl": "//lh6.googleusercontent.com/-cCJa7dTDcgQ/AAAAAAAAAAI/AAAAAAAACgw/r2EZ_8oYer4/s50-c-k-no/photo.jpg",
      "sessionId": "2a0a5e044bb03b66",
      "userId": "102167687554210253930"
     },
     "user_tz": 420
    },
    "id": "hQbLjrW_iT39",
    "outputId": "b440efc6-5ee1-4cbc-d02d-93db44ebd956"
   },
   "outputs": [
    {
     "name": "stdout",
     "output_type": "stream",
     "text": [
      "Compressed pickle size: 690800441\n"
     ]
    }
   ],
   "source": [
    "statinfo = os.stat(pickle_file)\n",
    "print('Compressed pickle size:', statinfo.st_size)"
   ]
  },
  {
   "cell_type": "markdown",
   "metadata": {
    "colab_type": "text",
    "id": "gE_cRAQB33lk"
   },
   "source": [
    "---\n",
    "Problem 5\n",
    "---------\n",
    "\n",
    "By construction, this dataset might contain a lot of overlapping samples, including training data that's also contained in the validation and test set! Overlap between training and test can skew the results if you expect to use your model in an environment where there is never an overlap, but are actually ok if you expect to see training samples recur when you use it.\n",
    "Measure how much overlap there is between training, validation and test samples.\n",
    "\n",
    "Optional questions:\n",
    "- What about near duplicates between datasets? (images that are almost identical)\n",
    "- Create a sanitized validation and test set, and compare your accuracy on those in subsequent assignments.\n",
    "---"
   ]
  },
  {
   "cell_type": "code",
   "execution_count": 13,
   "metadata": {
    "collapsed": true
   },
   "outputs": [],
   "source": [
    "def distance(sample1, sample2):\n",
    "    norm = sample1 - sample2\n",
    "    norm = np.sum(np.absolute(norm))\n",
    "    return norm\n",
    "\n",
    "def delete_sample(dataset, labels, index_list):\n",
    "    new_dataset = np.delete(dataset, index_list, axis=0)\n",
    "    new_labels = np.delete(labels, index_list, axis=0)\n",
    "    return new_dataset, new_labels"
   ]
  },
  {
   "cell_type": "code",
   "execution_count": 14,
   "metadata": {},
   "outputs": [
    {
     "name": "stdout",
     "output_type": "stream",
     "text": [
      "after 2000000 image pairs ===============\n",
      "train overlap = 50\n",
      "valid overlap = 110\n",
      "after 4000000 image pairs ===============\n",
      "train overlap = 82\n",
      "valid overlap = 111\n",
      "after 6000000 image pairs ===============\n",
      "train overlap = 125\n",
      "valid overlap = 112\n",
      "after 8000000 image pairs ===============\n",
      "train overlap = 164\n",
      "valid overlap = 112\n",
      "after 10000000 image pairs ===============\n",
      "train overlap = 193\n",
      "valid overlap = 113\n",
      "after 12000000 image pairs ===============\n",
      "train overlap = 231\n",
      "valid overlap = 113\n",
      "after 14000000 image pairs ===============\n",
      "train overlap = 270\n",
      "valid overlap = 113\n",
      "after 16000000 image pairs ===============\n",
      "train overlap = 308\n",
      "valid overlap = 113\n",
      "after 18000000 image pairs ===============\n",
      "train overlap = 340\n",
      "valid overlap = 113\n",
      "after 20000000 image pairs ===============\n",
      "train overlap = 372\n",
      "valid overlap = 113\n",
      "after 22000000 image pairs ===============\n",
      "train overlap = 402\n",
      "valid overlap = 114\n",
      "after 24000000 image pairs ===============\n",
      "train overlap = 434\n",
      "valid overlap = 114\n",
      "after 26000000 image pairs ===============\n",
      "train overlap = 466\n",
      "valid overlap = 114\n",
      "after 28000000 image pairs ===============\n",
      "train overlap = 499\n",
      "valid overlap = 115\n",
      "after 30000000 image pairs ===============\n",
      "train overlap = 540\n",
      "valid overlap = 115\n",
      "after 32000000 image pairs ===============\n",
      "train overlap = 573\n",
      "valid overlap = 115\n",
      "after 34000000 image pairs ===============\n",
      "train overlap = 613\n",
      "valid overlap = 115\n",
      "after 36000000 image pairs ===============\n",
      "train overlap = 644\n",
      "valid overlap = 115\n",
      "after 38000000 image pairs ===============\n",
      "train overlap = 680\n",
      "valid overlap = 116\n",
      "after 40000000 image pairs ===============\n",
      "train overlap = 710\n",
      "valid overlap = 116\n",
      "after 42000000 image pairs ===============\n",
      "train overlap = 752\n",
      "valid overlap = 116\n",
      "after 44000000 image pairs ===============\n",
      "train overlap = 813\n",
      "valid overlap = 117\n",
      "after 46000000 image pairs ===============\n",
      "train overlap = 845\n",
      "valid overlap = 117\n",
      "after 48000000 image pairs ===============\n",
      "train overlap = 883\n",
      "valid overlap = 117\n",
      "after 50000000 image pairs ===============\n",
      "train overlap = 923\n",
      "valid overlap = 117\n",
      "after 52000000 image pairs ===============\n",
      "train overlap = 958\n",
      "valid overlap = 118\n",
      "after 54000000 image pairs ===============\n",
      "train overlap = 999\n",
      "valid overlap = 118\n",
      "after 56000000 image pairs ===============\n",
      "train overlap = 1030\n",
      "valid overlap = 118\n",
      "after 58000000 image pairs ===============\n",
      "train overlap = 1065\n",
      "valid overlap = 118\n",
      "after 60000000 image pairs ===============\n",
      "train overlap = 1114\n",
      "valid overlap = 118\n",
      "after 62000000 image pairs ===============\n",
      "train overlap = 1147\n",
      "valid overlap = 118\n",
      "after 64000000 image pairs ===============\n",
      "train overlap = 1190\n",
      "valid overlap = 118\n",
      "after 66000000 image pairs ===============\n",
      "train overlap = 1238\n",
      "valid overlap = 118\n",
      "after 68000000 image pairs ===============\n",
      "train overlap = 1275\n",
      "valid overlap = 118\n",
      "after 70000000 image pairs ===============\n",
      "train overlap = 1318\n",
      "valid overlap = 118\n",
      "after 72000000 image pairs ===============\n",
      "train overlap = 1351\n",
      "valid overlap = 118\n",
      "after 74000000 image pairs ===============\n",
      "train overlap = 1391\n",
      "valid overlap = 118\n",
      "after 76000000 image pairs ===============\n",
      "train overlap = 1428\n",
      "valid overlap = 118\n",
      "after 78000000 image pairs ===============\n",
      "train overlap = 1455\n",
      "valid overlap = 118\n",
      "after 80000000 image pairs ===============\n",
      "train overlap = 1498\n",
      "valid overlap = 118\n",
      "after 82000000 image pairs ===============\n",
      "train overlap = 1528\n",
      "valid overlap = 118\n",
      "after 84000000 image pairs ===============\n",
      "train overlap = 1568\n",
      "valid overlap = 118\n",
      "after 86000000 image pairs ===============\n",
      "train overlap = 1602\n",
      "valid overlap = 119\n",
      "after 88000000 image pairs ===============\n",
      "train overlap = 1640\n",
      "valid overlap = 119\n",
      "after 90000000 image pairs ===============\n",
      "train overlap = 1680\n",
      "valid overlap = 119\n",
      "after 92000000 image pairs ===============\n",
      "train overlap = 1723\n",
      "valid overlap = 119\n",
      "after 94000000 image pairs ===============\n",
      "train overlap = 1753\n",
      "valid overlap = 119\n",
      "after 96000000 image pairs ===============\n",
      "train overlap = 1781\n",
      "valid overlap = 119\n",
      "after 98000000 image pairs ===============\n",
      "train overlap = 1812\n",
      "valid overlap = 119\n",
      "after 100000000 image pairs ===============\n",
      "train overlap = 1841\n",
      "valid overlap = 119\n",
      "after 102000000 image pairs ===============\n",
      "train overlap = 1882\n",
      "valid overlap = 119\n",
      "after 104000000 image pairs ===============\n",
      "train overlap = 1909\n",
      "valid overlap = 119\n",
      "after 106000000 image pairs ===============\n",
      "train overlap = 1954\n",
      "valid overlap = 119\n",
      "after 108000000 image pairs ===============\n",
      "train overlap = 2000\n",
      "valid overlap = 119\n",
      "after 110000000 image pairs ===============\n",
      "train overlap = 2051\n",
      "valid overlap = 120\n",
      "after 112000000 image pairs ===============\n",
      "train overlap = 2089\n",
      "valid overlap = 120\n",
      "after 114000000 image pairs ===============\n",
      "train overlap = 2136\n",
      "valid overlap = 120\n",
      "after 116000000 image pairs ===============\n",
      "train overlap = 2172\n",
      "valid overlap = 120\n",
      "after 118000000 image pairs ===============\n",
      "train overlap = 2221\n",
      "valid overlap = 120\n",
      "after 120000000 image pairs ===============\n",
      "train overlap = 2263\n",
      "valid overlap = 120\n",
      "after 122000000 image pairs ===============\n",
      "train overlap = 2303\n",
      "valid overlap = 120\n",
      "after 124000000 image pairs ===============\n",
      "train overlap = 2350\n",
      "valid overlap = 120\n",
      "after 126000000 image pairs ===============\n",
      "train overlap = 2388\n",
      "valid overlap = 120\n",
      "after 128000000 image pairs ===============\n",
      "train overlap = 2437\n",
      "valid overlap = 120\n",
      "after 130000000 image pairs ===============\n",
      "train overlap = 2478\n",
      "valid overlap = 120\n",
      "after 132000000 image pairs ===============\n",
      "train overlap = 2511\n",
      "valid overlap = 120\n",
      "after 134000000 image pairs ===============\n",
      "train overlap = 2547\n",
      "valid overlap = 120\n",
      "after 136000000 image pairs ===============\n",
      "train overlap = 2572\n",
      "valid overlap = 120\n",
      "after 138000000 image pairs ===============\n",
      "train overlap = 2610\n",
      "valid overlap = 120\n",
      "after 140000000 image pairs ===============\n",
      "train overlap = 2652\n",
      "valid overlap = 120\n",
      "after 142000000 image pairs ===============\n",
      "train overlap = 2691\n",
      "valid overlap = 121\n",
      "after 144000000 image pairs ===============\n",
      "train overlap = 2718\n",
      "valid overlap = 121\n",
      "after 146000000 image pairs ===============\n",
      "train overlap = 2752\n",
      "valid overlap = 121\n",
      "after 148000000 image pairs ===============\n",
      "train overlap = 2781\n",
      "valid overlap = 121\n",
      "after 150000000 image pairs ===============\n",
      "train overlap = 2808\n",
      "valid overlap = 121\n",
      "after 152000000 image pairs ===============\n",
      "train overlap = 2850\n",
      "valid overlap = 121\n",
      "after 154000000 image pairs ===============\n",
      "train overlap = 2891\n",
      "valid overlap = 121\n",
      "after 156000000 image pairs ===============\n",
      "train overlap = 2939\n",
      "valid overlap = 121\n",
      "after 158000000 image pairs ===============\n",
      "train overlap = 2973\n",
      "valid overlap = 121\n",
      "after 160000000 image pairs ===============\n",
      "train overlap = 3008\n",
      "valid overlap = 121\n",
      "after 162000000 image pairs ===============\n",
      "train overlap = 3046\n",
      "valid overlap = 121\n",
      "after 164000000 image pairs ===============\n",
      "train overlap = 3094\n",
      "valid overlap = 122\n",
      "after 166000000 image pairs ===============\n",
      "train overlap = 3134\n",
      "valid overlap = 122\n",
      "after 168000000 image pairs ===============\n",
      "train overlap = 3179\n",
      "valid overlap = 122\n",
      "after 170000000 image pairs ===============\n",
      "train overlap = 3223\n",
      "valid overlap = 122\n",
      "after 172000000 image pairs ===============\n",
      "train overlap = 3261\n",
      "valid overlap = 122\n",
      "after 174000000 image pairs ===============\n",
      "train overlap = 3297\n",
      "valid overlap = 122\n",
      "after 176000000 image pairs ===============\n",
      "train overlap = 3340\n",
      "valid overlap = 122\n",
      "after 178000000 image pairs ===============\n",
      "train overlap = 3368\n",
      "valid overlap = 122\n",
      "after 180000000 image pairs ===============\n",
      "train overlap = 3409\n",
      "valid overlap = 122\n",
      "after 182000000 image pairs ===============\n",
      "train overlap = 3451\n",
      "valid overlap = 122\n",
      "after 184000000 image pairs ===============\n",
      "train overlap = 3505\n",
      "valid overlap = 123\n",
      "after 186000000 image pairs ===============\n",
      "train overlap = 3545\n",
      "valid overlap = 123\n",
      "after 188000000 image pairs ===============\n",
      "train overlap = 3572\n",
      "valid overlap = 123\n",
      "after 190000000 image pairs ===============\n",
      "train overlap = 3614\n",
      "valid overlap = 123\n",
      "after 192000000 image pairs ===============\n",
      "train overlap = 3658\n",
      "valid overlap = 123\n",
      "after 194000000 image pairs ===============\n",
      "train overlap = 3693\n",
      "valid overlap = 123\n",
      "after 196000000 image pairs ===============\n",
      "train overlap = 3728\n",
      "valid overlap = 123\n",
      "after 198000000 image pairs ===============\n",
      "train overlap = 3766\n",
      "valid overlap = 123\n",
      "after 200000000 image pairs ===============\n",
      "train overlap = 3799\n",
      "valid overlap = 124\n"
     ]
    }
   ],
   "source": [
    "# the mean distance between two random image from the train and test sets is 300\n",
    "train_indexes_to_remove = []\n",
    "valid_indexes_to_remove = []\n",
    "image_count = 0\n",
    "\n",
    "for i in range(train_dataset.shape[0]):\n",
    "    for j in range(valid_dataset.shape[0]):\n",
    "        if (train_labels[i] == valid_labels[j]): # compare images i and j only if they have the same label\n",
    "            sample_1 = train_dataset[i,:,:]\n",
    "            sample_2 = valid_dataset[j,:,:]\n",
    "            d_12 = distance(sample_1, sample_2)\n",
    "            \n",
    "            if (d_12 < 0.005*300.0):\n",
    "                if not i in train_indexes_to_remove: # train i and valid j are almost identical\n",
    "                    train_indexes_to_remove.append(i)\n",
    "                elif not j in valid_indexes_to_remove: # valid j is almost identical to another valid. sample\n",
    "                    valid_indexes_to_remove.append(j)\n",
    "            \n",
    "            image_count += 1\n",
    "            \n",
    "            if (image_count % 2000000 == 0):\n",
    "                print('after', image_count, 'image pairs ===============')\n",
    "                print('train overlap =', len(train_indexes_to_remove))\n",
    "                print('valid overlap =', len(valid_indexes_to_remove))"
   ]
  },
  {
   "cell_type": "code",
   "execution_count": 15,
   "metadata": {},
   "outputs": [
    {
     "name": "stdout",
     "output_type": "stream",
     "text": [
      "Removing the duplicates =============\n",
      "=> From the train dataset\n",
      "=> From the valid dataset\n"
     ]
    }
   ],
   "source": [
    "print('Removing the duplicates =============')\n",
    "\n",
    "print('=> From the train dataset')\n",
    "train_dataset, train_labels = delete_sample(train_dataset, train_labels, train_indexes_to_remove)\n",
    "    \n",
    "print('=> From the valid dataset')\n",
    "valid_dataset, valid_labels = delete_sample(valid_dataset, valid_labels, valid_indexes_to_remove)"
   ]
  },
  {
   "cell_type": "code",
   "execution_count": 16,
   "metadata": {},
   "outputs": [
    {
     "name": "stdout",
     "output_type": "stream",
     "text": [
      "after 1000000 image pairs ===============\n",
      "train overlap = 9\n",
      "test overlap = 0\n",
      "after 2000000 image pairs ===============\n",
      "train overlap = 15\n",
      "test overlap = 0\n",
      "after 3000000 image pairs ===============\n",
      "train overlap = 26\n",
      "test overlap = 1\n",
      "after 4000000 image pairs ===============\n",
      "train overlap = 30\n",
      "test overlap = 1\n",
      "after 5000000 image pairs ===============\n",
      "train overlap = 38\n",
      "test overlap = 1\n",
      "after 6000000 image pairs ===============\n",
      "train overlap = 46\n",
      "test overlap = 1\n",
      "after 7000000 image pairs ===============\n",
      "train overlap = 59\n",
      "test overlap = 1\n",
      "after 8000000 image pairs ===============\n",
      "train overlap = 66\n",
      "test overlap = 1\n",
      "after 9000000 image pairs ===============\n",
      "train overlap = 71\n",
      "test overlap = 2\n",
      "after 10000000 image pairs ===============\n",
      "train overlap = 75\n",
      "test overlap = 2\n",
      "after 11000000 image pairs ===============\n",
      "train overlap = 84\n",
      "test overlap = 2\n",
      "after 12000000 image pairs ===============\n",
      "train overlap = 93\n",
      "test overlap = 2\n",
      "after 13000000 image pairs ===============\n",
      "train overlap = 100\n",
      "test overlap = 2\n",
      "after 14000000 image pairs ===============\n",
      "train overlap = 106\n",
      "test overlap = 2\n",
      "after 15000000 image pairs ===============\n",
      "train overlap = 111\n",
      "test overlap = 2\n",
      "after 16000000 image pairs ===============\n",
      "train overlap = 118\n",
      "test overlap = 3\n",
      "after 17000000 image pairs ===============\n",
      "train overlap = 124\n",
      "test overlap = 3\n",
      "after 18000000 image pairs ===============\n",
      "train overlap = 131\n",
      "test overlap = 3\n",
      "after 19000000 image pairs ===============\n",
      "train overlap = 141\n",
      "test overlap = 3\n",
      "after 20000000 image pairs ===============\n",
      "train overlap = 145\n",
      "test overlap = 3\n",
      "after 21000000 image pairs ===============\n",
      "train overlap = 153\n",
      "test overlap = 3\n",
      "after 22000000 image pairs ===============\n",
      "train overlap = 161\n",
      "test overlap = 3\n",
      "after 23000000 image pairs ===============\n",
      "train overlap = 167\n",
      "test overlap = 3\n",
      "after 24000000 image pairs ===============\n",
      "train overlap = 174\n",
      "test overlap = 3\n",
      "after 25000000 image pairs ===============\n",
      "train overlap = 179\n",
      "test overlap = 4\n",
      "after 26000000 image pairs ===============\n",
      "train overlap = 195\n",
      "test overlap = 4\n",
      "after 27000000 image pairs ===============\n",
      "train overlap = 201\n",
      "test overlap = 4\n",
      "after 28000000 image pairs ===============\n",
      "train overlap = 211\n",
      "test overlap = 4\n",
      "after 29000000 image pairs ===============\n",
      "train overlap = 219\n",
      "test overlap = 4\n",
      "after 30000000 image pairs ===============\n",
      "train overlap = 225\n",
      "test overlap = 4\n",
      "after 31000000 image pairs ===============\n",
      "train overlap = 231\n",
      "test overlap = 4\n",
      "after 32000000 image pairs ===============\n",
      "train overlap = 234\n",
      "test overlap = 4\n",
      "after 33000000 image pairs ===============\n",
      "train overlap = 243\n",
      "test overlap = 5\n",
      "after 34000000 image pairs ===============\n",
      "train overlap = 252\n",
      "test overlap = 5\n",
      "after 35000000 image pairs ===============\n",
      "train overlap = 256\n",
      "test overlap = 5\n",
      "after 36000000 image pairs ===============\n",
      "train overlap = 263\n",
      "test overlap = 5\n",
      "after 37000000 image pairs ===============\n",
      "train overlap = 275\n",
      "test overlap = 5\n",
      "after 38000000 image pairs ===============\n",
      "train overlap = 284\n",
      "test overlap = 5\n",
      "after 39000000 image pairs ===============\n",
      "train overlap = 289\n",
      "test overlap = 5\n",
      "after 40000000 image pairs ===============\n",
      "train overlap = 298\n",
      "test overlap = 5\n",
      "after 41000000 image pairs ===============\n",
      "train overlap = 302\n",
      "test overlap = 5\n",
      "after 42000000 image pairs ===============\n",
      "train overlap = 306\n",
      "test overlap = 5\n",
      "after 43000000 image pairs ===============\n",
      "train overlap = 313\n",
      "test overlap = 5\n",
      "after 44000000 image pairs ===============\n",
      "train overlap = 322\n",
      "test overlap = 5\n",
      "after 45000000 image pairs ===============\n",
      "train overlap = 334\n",
      "test overlap = 7\n",
      "after 46000000 image pairs ===============\n",
      "train overlap = 339\n",
      "test overlap = 7\n",
      "after 47000000 image pairs ===============\n",
      "train overlap = 343\n",
      "test overlap = 7\n",
      "after 48000000 image pairs ===============\n",
      "train overlap = 352\n",
      "test overlap = 7\n",
      "after 49000000 image pairs ===============\n",
      "train overlap = 359\n",
      "test overlap = 8\n",
      "after 50000000 image pairs ===============\n",
      "train overlap = 363\n",
      "test overlap = 8\n",
      "after 51000000 image pairs ===============\n",
      "train overlap = 373\n",
      "test overlap = 8\n",
      "after 52000000 image pairs ===============\n",
      "train overlap = 387\n",
      "test overlap = 8\n",
      "after 53000000 image pairs ===============\n",
      "train overlap = 397\n",
      "test overlap = 8\n",
      "after 54000000 image pairs ===============\n",
      "train overlap = 406\n",
      "test overlap = 8\n",
      "after 55000000 image pairs ===============\n",
      "train overlap = 412\n",
      "test overlap = 8\n",
      "after 56000000 image pairs ===============\n",
      "train overlap = 426\n",
      "test overlap = 8\n",
      "after 57000000 image pairs ===============\n",
      "train overlap = 434\n",
      "test overlap = 8\n",
      "after 58000000 image pairs ===============\n",
      "train overlap = 442\n",
      "test overlap = 9\n",
      "after 59000000 image pairs ===============\n",
      "train overlap = 450\n",
      "test overlap = 9\n",
      "after 60000000 image pairs ===============\n",
      "train overlap = 462\n",
      "test overlap = 10\n",
      "after 61000000 image pairs ===============\n",
      "train overlap = 473\n",
      "test overlap = 10\n",
      "after 62000000 image pairs ===============\n",
      "train overlap = 479\n",
      "test overlap = 10\n",
      "after 63000000 image pairs ===============\n",
      "train overlap = 487\n",
      "test overlap = 10\n",
      "after 64000000 image pairs ===============\n",
      "train overlap = 493\n",
      "test overlap = 10\n",
      "after 65000000 image pairs ===============\n",
      "train overlap = 496\n",
      "test overlap = 10\n",
      "after 66000000 image pairs ===============\n",
      "train overlap = 507\n",
      "test overlap = 11\n",
      "after 67000000 image pairs ===============\n",
      "train overlap = 511\n",
      "test overlap = 11\n",
      "after 68000000 image pairs ===============\n",
      "train overlap = 520\n",
      "test overlap = 11\n",
      "after 69000000 image pairs ===============\n",
      "train overlap = 529\n",
      "test overlap = 12\n",
      "after 70000000 image pairs ===============\n",
      "train overlap = 534\n",
      "test overlap = 12\n",
      "after 71000000 image pairs ===============\n",
      "train overlap = 541\n",
      "test overlap = 12\n",
      "after 72000000 image pairs ===============\n",
      "train overlap = 546\n",
      "test overlap = 12\n",
      "after 73000000 image pairs ===============\n",
      "train overlap = 556\n",
      "test overlap = 12\n",
      "after 74000000 image pairs ===============\n",
      "train overlap = 559\n",
      "test overlap = 12\n",
      "after 75000000 image pairs ===============\n",
      "train overlap = 563\n",
      "test overlap = 12\n",
      "after 76000000 image pairs ===============\n",
      "train overlap = 570\n",
      "test overlap = 12\n",
      "after 77000000 image pairs ===============\n",
      "train overlap = 574\n",
      "test overlap = 12\n",
      "after 78000000 image pairs ===============\n",
      "train overlap = 586\n",
      "test overlap = 12\n",
      "after 79000000 image pairs ===============\n",
      "train overlap = 595\n",
      "test overlap = 12\n",
      "after 80000000 image pairs ===============\n",
      "train overlap = 603\n",
      "test overlap = 12\n",
      "after 81000000 image pairs ===============\n",
      "train overlap = 608\n",
      "test overlap = 12\n",
      "after 82000000 image pairs ===============\n",
      "train overlap = 618\n",
      "test overlap = 13\n",
      "after 83000000 image pairs ===============\n",
      "train overlap = 630\n",
      "test overlap = 13\n",
      "after 84000000 image pairs ===============\n",
      "train overlap = 640\n",
      "test overlap = 13\n",
      "after 85000000 image pairs ===============\n",
      "train overlap = 650\n",
      "test overlap = 13\n",
      "after 86000000 image pairs ===============\n",
      "train overlap = 655\n",
      "test overlap = 13\n",
      "after 87000000 image pairs ===============\n",
      "train overlap = 666\n",
      "test overlap = 13\n",
      "after 88000000 image pairs ===============\n",
      "train overlap = 671\n",
      "test overlap = 14\n",
      "after 89000000 image pairs ===============\n",
      "train overlap = 679\n",
      "test overlap = 14\n",
      "after 90000000 image pairs ===============\n",
      "train overlap = 688\n",
      "test overlap = 14\n",
      "after 91000000 image pairs ===============\n",
      "train overlap = 695\n",
      "test overlap = 14\n",
      "after 92000000 image pairs ===============\n",
      "train overlap = 701\n",
      "test overlap = 14\n",
      "after 93000000 image pairs ===============\n",
      "train overlap = 714\n",
      "test overlap = 14\n",
      "after 94000000 image pairs ===============\n",
      "train overlap = 718\n",
      "test overlap = 14\n",
      "after 95000000 image pairs ===============\n",
      "train overlap = 726\n",
      "test overlap = 14\n",
      "after 96000000 image pairs ===============\n",
      "train overlap = 735\n",
      "test overlap = 15\n",
      "after 97000000 image pairs ===============\n",
      "train overlap = 743\n",
      "test overlap = 16\n",
      "after 98000000 image pairs ===============\n",
      "train overlap = 750\n",
      "test overlap = 16\n",
      "after 99000000 image pairs ===============\n",
      "train overlap = 760\n",
      "test overlap = 16\n",
      "after 100000000 image pairs ===============\n",
      "train overlap = 769\n",
      "test overlap = 16\n",
      "after 101000000 image pairs ===============\n",
      "train overlap = 775\n",
      "test overlap = 16\n",
      "after 102000000 image pairs ===============\n",
      "train overlap = 782\n",
      "test overlap = 17\n",
      "after 103000000 image pairs ===============\n",
      "train overlap = 793\n",
      "test overlap = 17\n",
      "after 104000000 image pairs ===============\n",
      "train overlap = 804\n",
      "test overlap = 17\n",
      "after 105000000 image pairs ===============\n",
      "train overlap = 815\n",
      "test overlap = 19\n",
      "after 106000000 image pairs ===============\n",
      "train overlap = 820\n",
      "test overlap = 19\n",
      "after 107000000 image pairs ===============\n",
      "train overlap = 827\n",
      "test overlap = 19\n",
      "after 108000000 image pairs ===============\n",
      "train overlap = 836\n",
      "test overlap = 19\n",
      "after 109000000 image pairs ===============\n",
      "train overlap = 843\n",
      "test overlap = 19\n",
      "after 110000000 image pairs ===============\n",
      "train overlap = 852\n",
      "test overlap = 19\n",
      "after 111000000 image pairs ===============\n",
      "train overlap = 858\n",
      "test overlap = 20\n",
      "after 112000000 image pairs ===============\n",
      "train overlap = 864\n",
      "test overlap = 20\n",
      "after 113000000 image pairs ===============\n",
      "train overlap = 874\n",
      "test overlap = 20\n",
      "after 114000000 image pairs ===============\n",
      "train overlap = 886\n",
      "test overlap = 20\n",
      "after 115000000 image pairs ===============\n",
      "train overlap = 900\n",
      "test overlap = 20\n",
      "after 116000000 image pairs ===============\n",
      "train overlap = 906\n",
      "test overlap = 20\n",
      "after 117000000 image pairs ===============\n",
      "train overlap = 916\n",
      "test overlap = 20\n",
      "after 118000000 image pairs ===============\n",
      "train overlap = 925\n",
      "test overlap = 20\n",
      "after 119000000 image pairs ===============\n",
      "train overlap = 933\n",
      "test overlap = 20\n",
      "after 120000000 image pairs ===============\n",
      "train overlap = 942\n",
      "test overlap = 20\n",
      "after 121000000 image pairs ===============\n",
      "train overlap = 950\n",
      "test overlap = 20\n",
      "after 122000000 image pairs ===============\n",
      "train overlap = 956\n",
      "test overlap = 20\n",
      "after 123000000 image pairs ===============\n",
      "train overlap = 967\n",
      "test overlap = 21\n",
      "after 124000000 image pairs ===============\n",
      "train overlap = 973\n",
      "test overlap = 21\n",
      "after 125000000 image pairs ===============\n",
      "train overlap = 986\n",
      "test overlap = 22\n",
      "after 126000000 image pairs ===============\n",
      "train overlap = 991\n",
      "test overlap = 22\n",
      "after 127000000 image pairs ===============\n",
      "train overlap = 1002\n",
      "test overlap = 22\n",
      "after 128000000 image pairs ===============\n",
      "train overlap = 1013\n",
      "test overlap = 23\n",
      "after 129000000 image pairs ===============\n",
      "train overlap = 1020\n",
      "test overlap = 23\n",
      "after 130000000 image pairs ===============\n",
      "train overlap = 1027\n",
      "test overlap = 23\n",
      "after 131000000 image pairs ===============\n",
      "train overlap = 1032\n",
      "test overlap = 23\n",
      "after 132000000 image pairs ===============\n",
      "train overlap = 1040\n",
      "test overlap = 23\n",
      "after 133000000 image pairs ===============\n",
      "train overlap = 1045\n",
      "test overlap = 23\n",
      "after 134000000 image pairs ===============\n",
      "train overlap = 1053\n",
      "test overlap = 23\n",
      "after 135000000 image pairs ===============\n",
      "train overlap = 1066\n",
      "test overlap = 23\n",
      "after 136000000 image pairs ===============\n",
      "train overlap = 1076\n",
      "test overlap = 23\n",
      "after 137000000 image pairs ===============\n",
      "train overlap = 1087\n",
      "test overlap = 24\n",
      "after 138000000 image pairs ===============\n",
      "train overlap = 1096\n",
      "test overlap = 24\n",
      "after 139000000 image pairs ===============\n",
      "train overlap = 1106\n",
      "test overlap = 24\n",
      "after 140000000 image pairs ===============\n",
      "train overlap = 1111\n",
      "test overlap = 24\n",
      "after 141000000 image pairs ===============\n",
      "train overlap = 1119\n",
      "test overlap = 25\n",
      "after 142000000 image pairs ===============\n",
      "train overlap = 1130\n",
      "test overlap = 25\n",
      "after 143000000 image pairs ===============\n",
      "train overlap = 1138\n",
      "test overlap = 25\n",
      "after 144000000 image pairs ===============\n",
      "train overlap = 1141\n",
      "test overlap = 25\n",
      "after 145000000 image pairs ===============\n",
      "train overlap = 1149\n",
      "test overlap = 25\n",
      "after 146000000 image pairs ===============\n",
      "train overlap = 1154\n",
      "test overlap = 25\n",
      "after 147000000 image pairs ===============\n",
      "train overlap = 1158\n",
      "test overlap = 25\n",
      "after 148000000 image pairs ===============\n",
      "train overlap = 1164\n",
      "test overlap = 25\n",
      "after 149000000 image pairs ===============\n",
      "train overlap = 1170\n",
      "test overlap = 26\n",
      "after 150000000 image pairs ===============\n",
      "train overlap = 1174\n",
      "test overlap = 26\n",
      "after 151000000 image pairs ===============\n",
      "train overlap = 1183\n",
      "test overlap = 26\n",
      "after 152000000 image pairs ===============\n",
      "train overlap = 1194\n",
      "test overlap = 26\n",
      "after 153000000 image pairs ===============\n",
      "train overlap = 1201\n",
      "test overlap = 27\n",
      "after 154000000 image pairs ===============\n",
      "train overlap = 1206\n",
      "test overlap = 27\n",
      "after 155000000 image pairs ===============\n",
      "train overlap = 1213\n",
      "test overlap = 27\n",
      "after 156000000 image pairs ===============\n",
      "train overlap = 1220\n",
      "test overlap = 27\n",
      "after 157000000 image pairs ===============\n",
      "train overlap = 1226\n",
      "test overlap = 28\n",
      "after 158000000 image pairs ===============\n",
      "train overlap = 1235\n",
      "test overlap = 28\n",
      "after 159000000 image pairs ===============\n",
      "train overlap = 1242\n",
      "test overlap = 28\n",
      "after 160000000 image pairs ===============\n",
      "train overlap = 1252\n",
      "test overlap = 28\n",
      "after 161000000 image pairs ===============\n",
      "train overlap = 1258\n",
      "test overlap = 28\n",
      "after 162000000 image pairs ===============\n",
      "train overlap = 1268\n",
      "test overlap = 28\n",
      "after 163000000 image pairs ===============\n",
      "train overlap = 1280\n",
      "test overlap = 29\n",
      "after 164000000 image pairs ===============\n",
      "train overlap = 1286\n",
      "test overlap = 30\n",
      "after 165000000 image pairs ===============\n",
      "train overlap = 1297\n",
      "test overlap = 30\n",
      "after 166000000 image pairs ===============\n",
      "train overlap = 1305\n",
      "test overlap = 30\n",
      "after 167000000 image pairs ===============\n",
      "train overlap = 1312\n",
      "test overlap = 30\n",
      "after 168000000 image pairs ===============\n",
      "train overlap = 1320\n",
      "test overlap = 30\n",
      "after 169000000 image pairs ===============\n",
      "train overlap = 1328\n",
      "test overlap = 30\n",
      "after 170000000 image pairs ===============\n",
      "train overlap = 1334\n",
      "test overlap = 30\n",
      "after 171000000 image pairs ===============\n",
      "train overlap = 1340\n",
      "test overlap = 30\n",
      "after 172000000 image pairs ===============\n",
      "train overlap = 1350\n",
      "test overlap = 30\n",
      "after 173000000 image pairs ===============\n",
      "train overlap = 1362\n",
      "test overlap = 30\n",
      "after 174000000 image pairs ===============\n",
      "train overlap = 1372\n",
      "test overlap = 30\n",
      "after 175000000 image pairs ===============\n",
      "train overlap = 1381\n",
      "test overlap = 30\n",
      "after 176000000 image pairs ===============\n",
      "train overlap = 1389\n",
      "test overlap = 31\n",
      "after 177000000 image pairs ===============\n",
      "train overlap = 1400\n",
      "test overlap = 31\n",
      "after 178000000 image pairs ===============\n",
      "train overlap = 1409\n",
      "test overlap = 31\n",
      "after 179000000 image pairs ===============\n",
      "train overlap = 1412\n",
      "test overlap = 31\n",
      "after 180000000 image pairs ===============\n",
      "train overlap = 1419\n",
      "test overlap = 31\n",
      "after 181000000 image pairs ===============\n",
      "train overlap = 1427\n",
      "test overlap = 31\n",
      "after 182000000 image pairs ===============\n",
      "train overlap = 1431\n",
      "test overlap = 31\n",
      "after 183000000 image pairs ===============\n",
      "train overlap = 1439\n",
      "test overlap = 31\n",
      "after 184000000 image pairs ===============\n",
      "train overlap = 1449\n",
      "test overlap = 31\n",
      "after 185000000 image pairs ===============\n",
      "train overlap = 1455\n",
      "test overlap = 31\n",
      "after 186000000 image pairs ===============\n",
      "train overlap = 1460\n",
      "test overlap = 32\n",
      "after 187000000 image pairs ===============\n",
      "train overlap = 1468\n",
      "test overlap = 32\n",
      "after 188000000 image pairs ===============\n",
      "train overlap = 1476\n",
      "test overlap = 32\n",
      "after 189000000 image pairs ===============\n",
      "train overlap = 1485\n",
      "test overlap = 32\n",
      "after 190000000 image pairs ===============\n",
      "train overlap = 1491\n",
      "test overlap = 32\n",
      "after 191000000 image pairs ===============\n",
      "train overlap = 1496\n",
      "test overlap = 32\n",
      "after 192000000 image pairs ===============\n",
      "train overlap = 1503\n",
      "test overlap = 33\n",
      "after 193000000 image pairs ===============\n",
      "train overlap = 1513\n",
      "test overlap = 33\n",
      "after 194000000 image pairs ===============\n",
      "train overlap = 1520\n",
      "test overlap = 33\n",
      "after 195000000 image pairs ===============\n",
      "train overlap = 1530\n",
      "test overlap = 33\n",
      "after 196000000 image pairs ===============\n",
      "train overlap = 1540\n",
      "test overlap = 33\n"
     ]
    }
   ],
   "source": [
    "# the mean distance between two random image from the train and test sets is 300\n",
    "train_indexes_to_remove = []\n",
    "test_indexes_to_remove = []\n",
    "image_count = 0\n",
    "\n",
    "for i in range(train_dataset.shape[0]):\n",
    "    for j in range(test_dataset.shape[0]):\n",
    "        if (train_labels[i] == test_labels[j]): # compare images i and j only if they have the same label\n",
    "            sample_1 = train_dataset[i,:,:]\n",
    "            sample_2 = test_dataset[j,:,:]\n",
    "            d_12 = distance(sample_1, sample_2)\n",
    "            \n",
    "            if (d_12 < 0.005*300.0):\n",
    "                if not i in train_indexes_to_remove: # train i and valid j are almost identical\n",
    "                    train_indexes_to_remove.append(i)\n",
    "                elif not j in test_indexes_to_remove: # valid j is almost identical to another valid. sample\n",
    "                    test_indexes_to_remove.append(j)\n",
    "            \n",
    "            image_count += 1\n",
    "            \n",
    "            if (image_count % 1000000 == 0):\n",
    "                print('after', image_count, 'image pairs ===============')\n",
    "                print('train overlap =', len(train_indexes_to_remove))\n",
    "                print('test overlap =', len(test_indexes_to_remove))"
   ]
  },
  {
   "cell_type": "code",
   "execution_count": 19,
   "metadata": {
    "scrolled": false
   },
   "outputs": [
    {
     "name": "stdout",
     "output_type": "stream",
     "text": [
      "\n",
      "\n",
      "Removing the duplicates =============\n",
      "=> From the test dataset\n"
     ]
    }
   ],
   "source": [
    "print('\\n\\nRemoving the duplicates =============')\n",
    "\n",
    "print('=> From the train dataset')\n",
    "train_dataset, train_labels = delete_sample(train_dataset, train_labels, train_indexes_to_remove)\n",
    "    \n",
    "print('=> From the test dataset')\n",
    "test_dataset, test_labels = delete_sample(test_dataset, test_labels, test_indexes_to_remove)"
   ]
  },
  {
   "cell_type": "markdown",
   "metadata": {},
   "source": [
    "We now serialize the cleaned datasets on the HD. "
   ]
  },
  {
   "cell_type": "code",
   "execution_count": 21,
   "metadata": {},
   "outputs": [
    {
     "name": "stdout",
     "output_type": "stream",
     "text": [
      "(194661, 28, 28)\n",
      "(9967, 28, 28)\n",
      "(9967, 28, 28)\n"
     ]
    }
   ],
   "source": [
    "print(train_dataset.shape)\n",
    "print(valid_dataset.shape)\n",
    "print(test_dataset.shape)"
   ]
  },
  {
   "cell_type": "code",
   "execution_count": 22,
   "metadata": {
    "collapsed": true
   },
   "outputs": [],
   "source": [
    "pickle_file = 'notMNIST_cleaned.pickle'\n",
    "\n",
    "try:\n",
    "  f = open(pickle_file, 'wb')\n",
    "  save = {\n",
    "    'train_dataset': train_dataset,\n",
    "    'train_labels': train_labels,\n",
    "    'valid_dataset': valid_dataset,\n",
    "    'valid_labels': valid_labels,\n",
    "    'test_dataset': test_dataset,\n",
    "    'test_labels': test_labels,\n",
    "    }\n",
    "  pickle.dump(save, f, pickle.HIGHEST_PROTOCOL)\n",
    "  f.close()\n",
    "except Exception as e:\n",
    "  print('Unable to save data to', pickle_file, ':', e)\n",
    "  raise"
   ]
  },
  {
   "cell_type": "code",
   "execution_count": 23,
   "metadata": {},
   "outputs": [
    {
     "name": "stdout",
     "output_type": "stream",
     "text": [
      "Compressed pickle size: 673828741\n"
     ]
    }
   ],
   "source": [
    "statinfo = os.stat(pickle_file)\n",
    "print('Compressed pickle size:', statinfo.st_size)"
   ]
  },
  {
   "cell_type": "markdown",
   "metadata": {
    "colab_type": "text",
    "id": "L8oww1s4JMQx"
   },
   "source": [
    "---\n",
    "Problem 6\n",
    "---------\n",
    "\n",
    "Let's get an idea of what an off-the-shelf classifier can give you on this data. It's always good to check that there is something to learn, and that it's a problem that is not so trivial that a canned solution solves it.\n",
    "\n",
    "Train a simple model on this data using 50, 100, 1000 and 5000 training samples. Hint: you can use the LogisticRegression model from sklearn.linear_model.\n",
    "\n",
    "Optional question: train an off-the-shelf model on all the data!\n",
    "\n",
    "---"
   ]
  },
  {
   "cell_type": "code",
   "execution_count": 24,
   "metadata": {},
   "outputs": [
    {
     "name": "stdout",
     "output_type": "stream",
     "text": [
      "=> score on the validation dataset = 0.890538777967\n",
      "=> score on the test dataset = 0.890538777967\n"
     ]
    }
   ],
   "source": [
    "train_dataset = train_dataset.reshape(train_dataset.shape[0], image_size*image_size)\n",
    "valid_dataset = valid_dataset.reshape(valid_dataset.shape[0], image_size*image_size)\n",
    "test_dataset = test_dataset.reshape(test_dataset.shape[0], image_size*image_size)\n",
    "\n",
    "classifier = LogisticRegression(C=1.0, penalty='l2', solver='lbfgs', multi_class='ovr', n_jobs=-1)\n",
    "classifier.fit(train_dataset, train_labels)\n",
    "\n",
    "print('=> score on the validation dataset =', classifier.score(valid_dataset, valid_labels))\n",
    "print('=> score on the test dataset =', classifier.score(test_dataset, test_labels))\n"
   ]
  }
 ],
 "metadata": {
  "celltoolbar": "Raw Cell Format",
  "colab": {
   "default_view": {},
   "name": "1_notmnist.ipynb",
   "provenance": [],
   "version": "0.3.2",
   "views": {}
  },
  "kernelspec": {
   "display_name": "Python 2",
   "language": "python",
   "name": "python2"
  },
  "language_info": {
   "codemirror_mode": {
    "name": "ipython",
    "version": 3
   },
   "file_extension": ".py",
   "mimetype": "text/x-python",
   "name": "python",
   "nbconvert_exporter": "python",
   "pygments_lexer": "ipython3",
   "version": "3.6.3"
  }
 },
 "nbformat": 4,
 "nbformat_minor": 1
}
