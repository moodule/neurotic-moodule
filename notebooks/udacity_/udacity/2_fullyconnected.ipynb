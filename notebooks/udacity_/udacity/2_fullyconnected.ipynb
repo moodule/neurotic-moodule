{
 "cells": [
  {
   "cell_type": "markdown",
   "metadata": {
    "colab_type": "text",
    "id": "kR-4eNdK6lYS"
   },
   "source": [
    "Deep Learning\n",
    "=============\n",
    "\n",
    "Assignment 2\n",
    "------------\n",
    "\n",
    "Previously in `1_notmnist.ipynb`, we created a pickle with formatted datasets for training, development and testing on the [notMNIST dataset](http://yaroslavvb.blogspot.com/2011/09/notmnist-dataset.html).\n",
    "\n",
    "The goal of this assignment is to progressively train deeper and more accurate models using TensorFlow."
   ]
  },
  {
   "cell_type": "code",
   "execution_count": 1,
   "metadata": {
    "cellView": "both",
    "colab": {
     "autoexec": {
      "startup": false,
      "wait_interval": 0
     }
    },
    "colab_type": "code",
    "collapsed": true,
    "id": "JLpLa8Jt7Vu4"
   },
   "outputs": [],
   "source": [
    "# These are all the modules we'll be using later. Make sure you can import them\n",
    "# before proceeding further.\n",
    "from __future__ import print_function\n",
    "import numpy as np\n",
    "import tensorflow as tf\n",
    "import matplotlib.pyplot as plt\n",
    "from six.moves import cPickle as pickle\n",
    "from six.moves import range"
   ]
  },
  {
   "cell_type": "markdown",
   "metadata": {
    "colab_type": "text",
    "id": "1HrCK6e17WzV"
   },
   "source": [
    "First reload the data we generated in `1_notmnist.ipynb`."
   ]
  },
  {
   "cell_type": "code",
   "execution_count": 2,
   "metadata": {},
   "outputs": [
    {
     "name": "stdout",
     "output_type": "stream",
     "text": [
      "[[[ 0  1  2]\n",
      "  [ 3  4  5]\n",
      "  [ 6  7  8]]\n",
      "\n",
      " [[ 9 10 11]\n",
      "  [12 13 14]\n",
      "  [15 16 17]]\n",
      "\n",
      " [[18 19 20]\n",
      "  [21 22 23]\n",
      "  [24 25 26]]\n",
      "\n",
      " [[27 28 29]\n",
      "  [30 31 32]\n",
      "  [33 34 35]]]\n"
     ]
    }
   ],
   "source": [
    "a = np.arange(36).reshape(4,3,3)\n",
    "print(a)"
   ]
  },
  {
   "cell_type": "code",
   "execution_count": 3,
   "metadata": {},
   "outputs": [
    {
     "name": "stdout",
     "output_type": "stream",
     "text": [
      "[[ 0  1  2  3  4  5  6  7  8]\n",
      " [ 9 10 11 12 13 14 15 16 17]\n",
      " [18 19 20 21 22 23 24 25 26]\n",
      " [27 28 29 30 31 32 33 34 35]]\n"
     ]
    }
   ],
   "source": [
    "b = a.reshape(4,9)\n",
    "print(b)"
   ]
  },
  {
   "cell_type": "code",
   "execution_count": 4,
   "metadata": {
    "cellView": "both",
    "colab": {
     "autoexec": {
      "startup": false,
      "wait_interval": 0
     },
     "output_extras": [
      {
       "item_id": 1
      }
     ]
    },
    "colab_type": "code",
    "executionInfo": {
     "elapsed": 19456,
     "status": "ok",
     "timestamp": 1449847956073,
     "user": {
      "color": "",
      "displayName": "",
      "isAnonymous": false,
      "isMe": true,
      "permissionId": "",
      "photoUrl": "",
      "sessionId": "0",
      "userId": ""
     },
     "user_tz": 480
    },
    "id": "y3-cj1bpmuxc",
    "outputId": "0ddb1607-1fc4-4ddb-de28-6c7ab7fb0c33"
   },
   "outputs": [
    {
     "name": "stdout",
     "output_type": "stream",
     "text": [
      "Training set (194661, 28, 28) (194661,)\n",
      "Validation set (9967, 28, 28) (9967,)\n",
      "Test set (9967, 28, 28) (9967,)\n"
     ]
    }
   ],
   "source": [
    "pickle_file = 'notMNIST_cleaned.pickle'\n",
    "\n",
    "with open(pickle_file, 'rb') as f:\n",
    "  save = pickle.load(f)\n",
    "  train_dataset = save['train_dataset']\n",
    "  train_labels = save['train_labels']\n",
    "  valid_dataset = save['valid_dataset']\n",
    "  valid_labels = save['valid_labels']\n",
    "  test_dataset = save['test_dataset']\n",
    "  test_labels = save['test_labels']\n",
    "  del save  # hint to help gc free up memory\n",
    "  print('Training set', train_dataset.shape, train_labels.shape)\n",
    "  print('Validation set', valid_dataset.shape, valid_labels.shape)\n",
    "  print('Test set', test_dataset.shape, test_labels.shape)"
   ]
  },
  {
   "cell_type": "markdown",
   "metadata": {
    "colab_type": "text",
    "id": "L7aHrm6nGDMB"
   },
   "source": [
    "Reformat into a shape that's more adapted to the models we're going to train:\n",
    "- data as a flat matrix,\n",
    "- labels as float 1-hot encodings."
   ]
  },
  {
   "cell_type": "code",
   "execution_count": 5,
   "metadata": {
    "collapsed": true
   },
   "outputs": [],
   "source": [
    "image_size = 28\n",
    "num_labels = 10\n",
    "\n",
    "def reformat(dataset, labels):\n",
    "  dataset = dataset.reshape((-1, image_size * image_size)).astype(np.float32)\n",
    "  # Map 0 to [1.0, 0.0, 0.0 ...], 1 to [0.0, 1.0, 0.0 ...]\n",
    "  labels = (np.arange(num_labels) == labels[:,None]).astype(np.float32)\n",
    "  return dataset, labels"
   ]
  },
  {
   "cell_type": "code",
   "execution_count": 6,
   "metadata": {
    "cellView": "both",
    "colab": {
     "autoexec": {
      "startup": false,
      "wait_interval": 0
     },
     "output_extras": [
      {
       "item_id": 1
      }
     ]
    },
    "colab_type": "code",
    "executionInfo": {
     "elapsed": 19723,
     "status": "ok",
     "timestamp": 1449847956364,
     "user": {
      "color": "",
      "displayName": "",
      "isAnonymous": false,
      "isMe": true,
      "permissionId": "",
      "photoUrl": "",
      "sessionId": "0",
      "userId": ""
     },
     "user_tz": 480
    },
    "id": "IRSyYiIIGIzS",
    "outputId": "2ba0fc75-1487-4ace-a562-cf81cae82793"
   },
   "outputs": [
    {
     "name": "stdout",
     "output_type": "stream",
     "text": [
      "Training set (194661, 784) (194661, 10)\n",
      "Validation set (9967, 784) (9967, 10)\n",
      "Test set (9967, 784) (9967, 10)\n"
     ]
    }
   ],
   "source": [
    "train_dataset, train_labels = reformat(train_dataset, train_labels)\n",
    "valid_dataset, valid_labels = reformat(valid_dataset, valid_labels)\n",
    "test_dataset, test_labels = reformat(test_dataset, test_labels)\n",
    "\n",
    "print('Training set', train_dataset.shape, train_labels.shape)\n",
    "print('Validation set', valid_dataset.shape, valid_labels.shape)\n",
    "print('Test set', test_dataset.shape, test_labels.shape)"
   ]
  },
  {
   "cell_type": "markdown",
   "metadata": {
    "colab_type": "text",
    "id": "nCLVqyQ5vPPH"
   },
   "source": [
    "We're first going to train a multinomial logistic regression using simple gradient descent.\n",
    "\n",
    "TensorFlow works like this:\n",
    "* First you describe the computation that you want to see performed: what the inputs, the variables, and the operations look like. These get created as nodes over a computation graph. This description is all contained within the block below:\n",
    "\n",
    "      with graph.as_default():\n",
    "          ...\n",
    "\n",
    "* Then you can run the operations on this graph as many times as you want by calling `session.run()`, providing it outputs to fetch from the graph that get returned. This runtime operation is all contained in the block below:\n",
    "\n",
    "      with tf.Session(graph=graph) as session:\n",
    "          ...\n",
    "\n",
    "Let's load all the data into TensorFlow and build the computation graph corresponding to our training:"
   ]
  },
  {
   "cell_type": "code",
   "execution_count": 7,
   "metadata": {
    "cellView": "both",
    "colab": {
     "autoexec": {
      "startup": false,
      "wait_interval": 0
     }
    },
    "colab_type": "code",
    "id": "Nfv39qvtvOl_"
   },
   "outputs": [],
   "source": [
    "# With gradient descent training, even this much data is prohibitive.\n",
    "# Subset the training data for faster turnaround.\n",
    "train_subset = 10000\n",
    "\n",
    "graph = tf.Graph()\n",
    "with graph.as_default():\n",
    "\n",
    "    # Input data.\n",
    "    # Load the training, validation and test data into constants that are\n",
    "    # attached to the graph.\n",
    "    tf_train_dataset = tf.constant(train_dataset[:train_subset, :])\n",
    "    tf_train_labels = tf.constant(train_labels[:train_subset])\n",
    "    tf_valid_dataset = tf.constant(valid_dataset)\n",
    "    tf_test_dataset = tf.constant(test_dataset)\n",
    "\n",
    "    # Variables.\n",
    "    # These are the parameters that we are going to be training. The weight\n",
    "    # matrix will be initialized using random valued following a (truncated)\n",
    "    # normal distribution. The biases get initialized to zero.\n",
    "    weights = tf.Variable(tf.truncated_normal([image_size * image_size, num_labels]))\n",
    "    biases = tf.Variable(tf.zeros([num_labels]))\n",
    "\n",
    "    # Training computation.\n",
    "    # We multiply the inputs with the weight matrix, and add biases. We compute\n",
    "    # the softmax and cross-entropy (it's one operation in TensorFlow, because\n",
    "    # it's very common, and it can be optimized). We take the average of this\n",
    "    # cross-entropy across all training examples: that's our loss.\n",
    "    logits = tf.matmul(tf_train_dataset, weights) + biases\n",
    "    loss = tf.reduce_mean(tf.nn.softmax_cross_entropy_with_logits(logits, tf_train_labels))\n",
    "\n",
    "    # Optimizer.\n",
    "    # We are going to find the minimum of this loss using gradient descent.\n",
    "    optimizer = tf.train.GradientDescentOptimizer(0.5).minimize(loss)\n",
    "\n",
    "    # Predictions for the training, validation, and test data.\n",
    "    # These are not part of training, but merely here so that we can report\n",
    "    # accuracy figures as we train.\n",
    "    train_prediction = tf.nn.softmax(logits)\n",
    "    valid_prediction = tf.nn.softmax(tf.matmul(tf_valid_dataset, weights) + biases)\n",
    "    test_prediction = tf.nn.softmax(tf.matmul(tf_test_dataset, weights) + biases)"
   ]
  },
  {
   "cell_type": "markdown",
   "metadata": {
    "colab_type": "text",
    "id": "KQcL4uqISHjP"
   },
   "source": [
    "Let's run this computation and iterate:"
   ]
  },
  {
   "cell_type": "code",
   "execution_count": 8,
   "metadata": {
    "collapsed": true
   },
   "outputs": [],
   "source": [
    "num_steps = 801\n",
    "\n",
    "def accuracy(predictions, labels, name='accuracy'):\n",
    "    correct_predictions = tf.equal(tf.argmax(predictions,1), tf.argmax(labels,1))\n",
    "    prediction_accuracy = tf.reduce_mean(tf.cast(correct_predictions, tf.float32), name=name)\n",
    "    return prediction_accuracy"
   ]
  },
  {
   "cell_type": "code",
   "execution_count": 9,
   "metadata": {
    "cellView": "both",
    "colab": {
     "autoexec": {
      "startup": false,
      "wait_interval": 0
     },
     "output_extras": [
      {
       "item_id": 9
      }
     ]
    },
    "colab_type": "code",
    "executionInfo": {
     "elapsed": 57454,
     "status": "ok",
     "timestamp": 1449847994134,
     "user": {
      "color": "",
      "displayName": "",
      "isAnonymous": false,
      "isMe": true,
      "permissionId": "",
      "photoUrl": "",
      "sessionId": "0",
      "userId": ""
     },
     "user_tz": 480
    },
    "id": "z2cjdenH869W",
    "outputId": "4c037ba1-b526-4d8e-e632-91e2a0333267"
   },
   "outputs": [
    {
     "name": "stdout",
     "output_type": "stream",
     "text": [
      "Initialized\n",
      "Loss at step 0: 18.443838\n",
      "Loss at step 100: 2.321529\n",
      "Loss at step 200: 1.890155\n",
      "Loss at step 300: 1.655883\n",
      "Loss at step 400: 1.497687\n",
      "Loss at step 500: 1.378948\n",
      "Loss at step 600: 1.284428\n",
      "Loss at step 700: 1.206504\n",
      "Loss at step 800: 1.140868\n"
     ]
    }
   ],
   "source": [
    "with tf.Session(graph=graph) as session:\n",
    "    # This is a one-time operation which ensures the parameters get initialized as\n",
    "    # we described in the graph: random weights for the matrix, zeros for the\n",
    "    # biases. \n",
    "    tf.initialize_all_variables().run()\n",
    "    print('Initialized')\n",
    "    for step in range(num_steps):\n",
    "        # Run the computations. We tell .run() that we want to run the optimizer,\n",
    "        # and get the loss value and the training predictions returned as numpy\n",
    "        # arrays.\n",
    "        _, l, predictions = session.run([optimizer, loss, train_prediction])\n",
    "        if (step % 100 == 0):\n",
    "            print('Loss at step %d: %f' % (step, l))"
   ]
  },
  {
   "cell_type": "markdown",
   "metadata": {
    "colab_type": "text",
    "id": "x68f-hxRGm3H"
   },
   "source": [
    "Let's now switch to stochastic gradient descent training instead, which is much faster.\n",
    "\n",
    "The graph will be similar, except that instead of holding all the training data into a constant node, we create a `Placeholder` node which will be fed actual data at every call of `sesion.run()`."
   ]
  },
  {
   "cell_type": "code",
   "execution_count": 10,
   "metadata": {
    "cellView": "both",
    "colab": {
     "autoexec": {
      "startup": false,
      "wait_interval": 0
     }
    },
    "colab_type": "code",
    "id": "qhPMzWYRGrzM"
   },
   "outputs": [],
   "source": [
    "batch_size = 128\n",
    "\n",
    "#TODO renommer les variables du modèle !\n",
    "#les E/S du modèle doivent avoir des noms neutres : elles peuvent tout accepter (train / valid /test)\n",
    "#tf_train_dataset / tf_train_labels / train_prediction\n",
    "#virer les préfixes \"tf\"...... et mettre un préfixe aux constantes et valeurs numpy\n",
    "\n",
    "graph = tf.Graph()\n",
    "with graph.as_default():\n",
    "\n",
    "    # Input data. For the training data, we use a placeholder that will be fed\n",
    "    # at run time with a training minibatch.\n",
    "    tf_train_dataset = tf.placeholder(tf.float32, shape=(None, image_size * image_size), name='train_dataset')\n",
    "    tf_train_labels = tf.placeholder(tf.float32, shape=(None, num_labels), name='train_labels')\n",
    "    tf_valid_dataset = tf.constant(valid_dataset, name='valid_dataset')\n",
    "    tf_valid_labels = tf.constant(valid_labels, name='valid_labels')\n",
    "    tf_test_dataset = tf.constant(test_dataset, name='test_dataset')\n",
    "    tf_test_labels = tf.constant(test_labels, name='test_labels')\n",
    "\n",
    "    # Variables.\n",
    "    weights = tf.Variable(tf.truncated_normal([image_size * image_size, num_labels]), name='weights_1')\n",
    "    biases = tf.Variable(tf.zeros([num_labels]), name='labels_1')\n",
    "\n",
    "    # Training computation.\n",
    "    logits = tf.matmul(tf_train_dataset, weights) + biases\n",
    "    loss = tf.reduce_mean(tf.nn.softmax_cross_entropy_with_logits(logits, tf_train_labels), name='loss')\n",
    "\n",
    "    # Optimizer.\n",
    "    optimizer = tf.train.GradientDescentOptimizer(0.5).minimize(loss)\n",
    "    \n",
    "    # Predictions for the training, validation, and test data. !!!NULNULNUL!!!\n",
    "    train_prediction = tf.nn.softmax(logits, name='train_prediction')\n",
    "    valid_prediction = tf.nn.softmax(tf.matmul(tf_valid_dataset, weights) + biases, name='valid_prediction')\n",
    "    test_prediction = tf.nn.softmax(tf.matmul(tf_test_dataset, weights) + biases, name='test_prediction')\n",
    "    \n",
    "    # compute the accuracy of the model !!!NULNULNUL!!!\n",
    "    train_accuracy = accuracy(train_prediction, tf_train_labels, name='train_accuracy')\n",
    "    valid_accuracy = accuracy(valid_prediction, tf_valid_labels, name='valid_accuracy')\n",
    "    test_accuracy = accuracy(test_prediction, tf_test_labels, name='test_accuracy')"
   ]
  },
  {
   "cell_type": "markdown",
   "metadata": {
    "colab_type": "text",
    "id": "XmVZESmtG4JH"
   },
   "source": [
    "Let's run it:"
   ]
  },
  {
   "cell_type": "code",
   "execution_count": 11,
   "metadata": {
    "cellView": "both",
    "colab": {
     "autoexec": {
      "startup": false,
      "wait_interval": 0
     },
     "output_extras": [
      {
       "item_id": 6
      }
     ]
    },
    "colab_type": "code",
    "executionInfo": {
     "elapsed": 66292,
     "status": "ok",
     "timestamp": 1449848003013,
     "user": {
      "color": "",
      "displayName": "",
      "isAnonymous": false,
      "isMe": true,
      "permissionId": "",
      "photoUrl": "",
      "sessionId": "0",
      "userId": ""
     },
     "user_tz": 480
    },
    "id": "FoF91pknG_YW",
    "outputId": "d255c80e-954d-4183-ca1c-c7333ce91d0a"
   },
   "outputs": [
    {
     "name": "stdout",
     "output_type": "stream",
     "text": [
      "Initialized\n",
      "==> step 0\n",
      "Validation loss: 20.211836\n",
      "==> step 500\n",
      "Validation loss: 1.624196\n",
      "==> step 1000\n",
      "Validation loss: 1.324729\n",
      "==> step 1500\n",
      "Validation loss: 1.166878\n",
      "==> step 2000\n",
      "Validation loss: 1.054569\n",
      "==> step 2500\n",
      "Validation loss: 1.001581\n",
      "==> step 3000\n",
      "Validation loss: 0.911340\n",
      "==> step 3500\n",
      "Validation loss: 0.886249\n",
      "==> step 4000\n",
      "Validation loss: 0.864132\n",
      "==> step 4500\n",
      "Validation loss: 0.848066\n",
      "==> step 5000\n",
      "Validation loss: 0.806943\n",
      "==> step 5500\n",
      "Validation loss: 0.789622\n",
      "==> step 6000\n",
      "Validation loss: 0.770927\n"
     ]
    }
   ],
   "source": [
    "num_steps = 6001\n",
    "\n",
    "with tf.Session(graph=graph) as session:\n",
    "    \n",
    "    # log the quality of the model\n",
    "    train_accuracy_log = tf.scalar_summary(\"train accuracy\", train_accuracy)\n",
    "    valid_accuracy_log = tf.scalar_summary(\"valid accuracy\", valid_accuracy)\n",
    "    test_accuracy_log = tf.scalar_summary(\"test accuracy\", test_accuracy)\n",
    "    loss_log = tf.scalar_summary(\"loss\", loss)\n",
    "    \n",
    "    # Merge all the summaries and write them out to /tmp/mnist_logs\n",
    "    merged = tf.merge_all_summaries()\n",
    "    writer = tf.train.SummaryWriter(\"/tmp/udacity_logs\", session.graph_def)\n",
    "    tf.initialize_all_variables().run()\n",
    "    print(\"Initialized\")\n",
    "    \n",
    "    for step in range(num_steps):\n",
    "        if (step % 500 == 0):\n",
    "            #evaluate on the validation & test sets\n",
    "            feed_dict = {tf_train_dataset : train_dataset, tf_train_labels : train_labels}\n",
    "            l, s = session.run([loss, merged], feed_dict=feed_dict)\n",
    "            writer.add_summary(s, step)\n",
    "            print(\"==> step %d\" % step)\n",
    "            print(\"Validation loss: %f\" % l)\n",
    "        else:\n",
    "            # Generate a minibatch.\n",
    "            offset = (step * batch_size) % (train_labels.shape[0] - batch_size)\n",
    "            batch_data = train_dataset[offset:(offset + batch_size), :]\n",
    "            batch_labels = train_labels[offset:(offset + batch_size), :]\n",
    "            feed_dict = {tf_train_dataset : batch_data, tf_train_labels : batch_labels}\n",
    "            session.run(optimizer, feed_dict=feed_dict)"
   ]
  },
  {
   "cell_type": "markdown",
   "metadata": {
    "colab_type": "text",
    "id": "7omWxtvLLxik"
   },
   "source": [
    "---\n",
    "Problem\n",
    "-------\n",
    "\n",
    "Turn the logistic regression example with SGD into a 1-hidden layer neural network with rectified linear units (nn.relu()) and 1024 hidden nodes. This model should improve your validation / test accuracy.\n",
    "\n",
    "---"
   ]
  },
  {
   "cell_type": "code",
   "execution_count": 12,
   "metadata": {},
   "outputs": [],
   "source": [
    "#\n",
    "\n",
    "class Network(object):\n",
    "    \n",
    "    # PUBLIC ===============================================================\n",
    "    \n",
    "    def __init__(self, input_dataset):\n",
    "        self.batch_size = int(input_dataset.get_shape()[0])\n",
    "        self._vars = []\n",
    "        self._vardict = {}\n",
    "        self._add('input', input_dataset)\n",
    "        self._setup()\n",
    "\n",
    "    def get_output(self):\n",
    "        return self._vars[-1][1]\n",
    "    \n",
    "    # PRIVY ================================================================\n",
    "\n",
    "    def _setup(self):\n",
    "        raise NotImplementedError('Must be subclassed.')\n",
    "\n",
    "    def _get_unique_name_(self, prefix):        \n",
    "        id = sum(t.startswith(prefix) for t,_ in self._vars)+1\n",
    "        return '%s_%d'%(prefix, id)\n",
    "\n",
    "    def _add(self, name, var):\n",
    "        self._vars.append((name, var))\n",
    "        self._vardict[name] = var\n",
    "    \n",
    "    def _linear(self, in_size, out_size, name=None):\n",
    "        name = name or self._get_unique_name_('linear')\n",
    "        weigths = tf.Variable(tf.truncated_normal([in_size, out_size]))\n",
    "        biases = tf.Variable(tf.zeros([out_size]))\n",
    "        logits = tf.matmul(self.get_output(), weights) + biases\n",
    "        self._add(name, logits)\n",
    "        return self\n",
    "        \n",
    "    def _relu(self, name=None):\n",
    "        name = name or self._get_unique_name_('relu')\n",
    "        relu = tf.nn.relu(self.get_output(), name=name)\n",
    "        self._add(name, relu)"
   ]
  },
  {
   "cell_type": "code",
   "execution_count": 13,
   "metadata": {
    "collapsed": true
   },
   "outputs": [],
   "source": [
    "batch_size = 128\n",
    "\n",
    "input_size = image_size * image_size\n",
    "hidden_size = 90\n",
    "\n",
    "class TwinHead(Network):\n",
    "    def _setup(self):\n",
    "        (self._linear(input_size, hidden_size, name='linear_1')\n",
    "             ._relu(name='relu_1')\n",
    "             ._linear(hidden_size, num_labels, name='linear_2'))\n",
    "\n",
    "    def y(self):\n",
    "        return [self.vardict['relu_1'], self.vardict['linear_2']]"
   ]
  },
  {
   "cell_type": "markdown",
   "metadata": {},
   "source": [
    "---\n",
    "Todo\n",
    "-------\n",
    "\n",
    "~~1) ajouter la possibilité de lancer une inférence (et donc transformer l'input en variable, qui peut être chargé soit avec les données d'entrainement soit avec celles de validation)~~\n",
    "\n",
    "2) dissocier les parties du modèles :\n",
    "- logique\n",
    "- initialisation\n",
    "- import des valeurs\n",
    "\n",
    "~~3) historiser le coût et la précision du modèle~~\n",
    "\n",
    "4) transférer ces fonctions dans le programme \"neural art\"\n",
    "\n",
    "5) renommer toutes les variables :\n",
    "- retirer le préfixe \"tf\"\n",
    "- donner des noms génériques aux entrées du modèle\n",
    "- évaluer les prédictions avec un dictionnaire test / train / valid différent à chaque fois \n",
    "\n",
    "---"
   ]
  },
  {
   "cell_type": "code",
   "execution_count": 18,
   "metadata": {},
   "outputs": [],
   "source": [
    "batch_size = 128\n",
    "\n",
    "input_size = image_size * image_size\n",
    "hidden_size = 90\n",
    "output_size = num_labels\n",
    "\n",
    "num_steps = 6000\n",
    "\n",
    "graph = tf.Graph()\n",
    "with graph.as_default():\n",
    "\n",
    "    # Generic placeholders : it can either run with ttrain / test / valid data\n",
    "    input_data = tf.placeholder(tf.float32, shape=(None, input_size), name='input')\n",
    "    output_data = tf.placeholder(tf.float32, shape=(None, output_size), name='output')\n",
    "    \n",
    "    # convert the validation / test datasets in tf nodes\n",
    "    with tf.variable_scope('datasets') as scope:\n",
    "        tf_valid_dataset = tf.constant(valid_dataset, name='valid_dataset')\n",
    "        tf_valid_labels = tf.constant(valid_labels, name='valid_labels')\n",
    "        tf_test_dataset = tf.constant(test_dataset, name='test_dataset')\n",
    "        tf_test_labels = tf.constant(test_labels, name='test_labels')\n",
    "\n",
    "    # First layer\n",
    "    with tf.variable_scope('first_layer') as scope:\n",
    "        layer_1_weights = tf.Variable(tf.truncated_normal([input_size, hidden_size]), name='layer_1_weights')\n",
    "        layer_1_biases = tf.Variable(tf.zeros([hidden_size]), name='layer_1_biases')\n",
    "        layer_1_logits = tf.matmul(input_data, layer_1_weights) + layer_1_biases\n",
    "        layer_1_relu = tf.nn.relu(layer_1_logits, name='layer_1_relu')\n",
    "    \n",
    "    # Second layer\n",
    "    with tf.variable_scope('second_layer') as scope:\n",
    "        layer_2_weights = tf.Variable(tf.truncated_normal([hidden_size, output_size]), name='layer_2_weights')\n",
    "        layer_2_biases = tf.Variable(tf.zeros([output_size]), name='layer_2_biases')\n",
    "        layer_2_logits = tf.matmul(layer_1_relu, layer_2_weights) + layer_2_biases\n",
    "    \n",
    "    # Output = prediction\n",
    "    with tf.variable_scope('prediction') as scope:\n",
    "        model_output = tf.nn.softmax(layer_2_logits, name='model_prediction')\n",
    "        model_accuracy = accuracy(model_output, output_data, name='model_accuracy')\n",
    "    \n",
    "    # Loss\n",
    "    with tf.variable_scope('loss') as scope:\n",
    "        accuracy_loss = tf.reduce_mean(tf.nn.softmax_cross_entropy_with_logits(layer_2_logits, output_data), name='loss')\n",
    "        regularization_loss = tf.nn.l2_loss(layer_1_weights) + tf.nn.l2_loss(layer_1_biases) + \\\n",
    "                              tf.nn.l2_loss(layer_2_weights) + tf.nn.l2_loss(layer_2_biases)\n",
    "        loss = accuracy_loss + 0.001 * regularization_loss\n",
    "    \n",
    "    # Optimizer with dynamic learning rate\n",
    "    with tf.variable_scope('optimizer') as scope:\n",
    "        global_step = tf.Variable(0, trainable=False)\n",
    "        learning_rate = tf.train.exponential_decay(0.5, global_step, num_steps * batch_size, 0.96)\n",
    "        optimizer = tf.train.GradientDescentOptimizer(learning_rate).minimize(loss, global_step=global_step)"
   ]
  },
  {
   "cell_type": "code",
   "execution_count": 19,
   "metadata": {},
   "outputs": [
    {
     "name": "stdout",
     "output_type": "stream",
     "text": [
      "Initialized\n",
      "==> step 100\n",
      "Train set accuracy: 0.692743\n",
      "Validation set accuracy: 0.767232\n",
      "Test set accuracy: 0.767232\n",
      "==> step 200\n",
      "Train set accuracy: 0.665249\n",
      "Validation set accuracy: 0.739240\n",
      "Test set accuracy: 0.739240\n",
      "==> step 300\n",
      "Train set accuracy: 0.719420\n",
      "Validation set accuracy: 0.780375\n",
      "Test set accuracy: 0.780375\n",
      "==> step 400\n",
      "Train set accuracy: 0.737924\n",
      "Validation set accuracy: 0.812080\n",
      "Test set accuracy: 0.812080\n",
      "==> step 500\n",
      "Train set accuracy: 0.750721\n",
      "Validation set accuracy: 0.821912\n",
      "Test set accuracy: 0.821912\n",
      "==> step 600\n",
      "Train set accuracy: 0.760157\n",
      "Validation set accuracy: 0.833250\n",
      "Test set accuracy: 0.833250\n",
      "==> step 700\n",
      "Train set accuracy: 0.770493\n",
      "Validation set accuracy: 0.845189\n",
      "Test set accuracy: 0.845189\n",
      "==> step 800\n",
      "Train set accuracy: 0.771038\n",
      "Validation set accuracy: 0.849102\n",
      "Test set accuracy: 0.849102\n",
      "==> step 900\n",
      "Train set accuracy: 0.783706\n",
      "Validation set accuracy: 0.842279\n",
      "Test set accuracy: 0.842279\n",
      "==> step 1000\n",
      "Train set accuracy: 0.787549\n",
      "Validation set accuracy: 0.859837\n",
      "Test set accuracy: 0.859837\n",
      "==> step 1100\n",
      "Train set accuracy: 0.779858\n",
      "Validation set accuracy: 0.836661\n",
      "Test set accuracy: 0.836661\n",
      "==> step 1200\n",
      "Train set accuracy: 0.809890\n",
      "Validation set accuracy: 0.880305\n",
      "Test set accuracy: 0.880305\n",
      "==> step 1300\n",
      "Train set accuracy: 0.809782\n",
      "Validation set accuracy: 0.879101\n",
      "Test set accuracy: 0.879101\n",
      "==> step 1400\n",
      "Train set accuracy: 0.813260\n",
      "Validation set accuracy: 0.884419\n",
      "Test set accuracy: 0.884419\n",
      "==> step 1500\n",
      "Train set accuracy: 0.816471\n",
      "Validation set accuracy: 0.883917\n",
      "Test set accuracy: 0.883917\n",
      "==> step 1600\n",
      "Train set accuracy: 0.815911\n",
      "Validation set accuracy: 0.886124\n",
      "Test set accuracy: 0.886124\n",
      "==> step 1700\n",
      "Train set accuracy: 0.820128\n",
      "Validation set accuracy: 0.887830\n",
      "Test set accuracy: 0.887830\n",
      "==> step 1800\n",
      "Train set accuracy: 0.822902\n",
      "Validation set accuracy: 0.891743\n",
      "Test set accuracy: 0.891743\n",
      "==> step 1900\n",
      "Train set accuracy: 0.824233\n",
      "Validation set accuracy: 0.892345\n",
      "Test set accuracy: 0.892345\n",
      "==> step 2000\n",
      "Train set accuracy: 0.831558\n",
      "Validation set accuracy: 0.881810\n",
      "Test set accuracy: 0.881810\n",
      "==> step 2100\n",
      "Train set accuracy: 0.835211\n",
      "Validation set accuracy: 0.901274\n",
      "Test set accuracy: 0.901274\n",
      "==> step 2200\n",
      "Train set accuracy: 0.834040\n",
      "Validation set accuracy: 0.898666\n",
      "Test set accuracy: 0.898666\n",
      "==> step 2300\n",
      "Train set accuracy: 0.837790\n",
      "Validation set accuracy: 0.903782\n",
      "Test set accuracy: 0.903782\n",
      "==> step 2400\n",
      "Train set accuracy: 0.838566\n",
      "Validation set accuracy: 0.903582\n",
      "Test set accuracy: 0.903582\n",
      "==> step 2500\n",
      "Train set accuracy: 0.840980\n",
      "Validation set accuracy: 0.902779\n",
      "Test set accuracy: 0.902779\n",
      "==> step 2600\n",
      "Train set accuracy: 0.845007\n",
      "Validation set accuracy: 0.907996\n",
      "Test set accuracy: 0.907996\n",
      "==> step 2700\n",
      "Train set accuracy: 0.845439\n",
      "Validation set accuracy: 0.909401\n",
      "Test set accuracy: 0.909401\n",
      "==> step 2800\n",
      "Train set accuracy: 0.850556\n",
      "Validation set accuracy: 0.911508\n",
      "Test set accuracy: 0.911508\n",
      "==> step 2900\n",
      "Train set accuracy: 0.850062\n",
      "Validation set accuracy: 0.912311\n",
      "Test set accuracy: 0.912311\n",
      "==> step 3000\n",
      "Train set accuracy: 0.854362\n",
      "Validation set accuracy: 0.912110\n",
      "Test set accuracy: 0.912110\n",
      "==> step 3100\n",
      "Train set accuracy: 0.849179\n",
      "Validation set accuracy: 0.907796\n",
      "Test set accuracy: 0.907796\n",
      "==> step 3200\n",
      "Train set accuracy: 0.854383\n",
      "Validation set accuracy: 0.916123\n",
      "Test set accuracy: 0.916123\n",
      "==> step 3300\n",
      "Train set accuracy: 0.857403\n",
      "Validation set accuracy: 0.914016\n",
      "Test set accuracy: 0.914016\n",
      "==> step 3400\n",
      "Train set accuracy: 0.857891\n",
      "Validation set accuracy: 0.916926\n",
      "Test set accuracy: 0.916926\n",
      "==> step 3500\n",
      "Train set accuracy: 0.857460\n",
      "Validation set accuracy: 0.915521\n",
      "Test set accuracy: 0.915521\n",
      "==> step 3600\n",
      "Train set accuracy: 0.862099\n",
      "Validation set accuracy: 0.921742\n",
      "Test set accuracy: 0.921742\n",
      "==> step 3700\n",
      "Train set accuracy: 0.859782\n",
      "Validation set accuracy: 0.918732\n",
      "Test set accuracy: 0.918732\n",
      "==> step 3800\n",
      "Train set accuracy: 0.860003\n",
      "Validation set accuracy: 0.916725\n",
      "Test set accuracy: 0.916725\n",
      "==> step 3900\n",
      "Train set accuracy: 0.861729\n",
      "Validation set accuracy: 0.917026\n",
      "Test set accuracy: 0.917026\n",
      "==> step 4000\n",
      "Train set accuracy: 0.862715\n",
      "Validation set accuracy: 0.920839\n",
      "Test set accuracy: 0.920839\n",
      "==> step 4100\n",
      "Train set accuracy: 0.864323\n",
      "Validation set accuracy: 0.921039\n",
      "Test set accuracy: 0.921039\n",
      "==> step 4200\n",
      "Train set accuracy: 0.864472\n",
      "Validation set accuracy: 0.919936\n",
      "Test set accuracy: 0.919936\n",
      "==> step 4300\n",
      "Train set accuracy: 0.865571\n",
      "Validation set accuracy: 0.921641\n",
      "Test set accuracy: 0.921641\n",
      "==> step 4400\n",
      "Train set accuracy: 0.862304\n",
      "Validation set accuracy: 0.917528\n",
      "Test set accuracy: 0.917528\n",
      "==> step 4500\n",
      "Train set accuracy: 0.866779\n",
      "Validation set accuracy: 0.921842\n",
      "Test set accuracy: 0.921842\n",
      "==> step 4600\n",
      "Train set accuracy: 0.867929\n",
      "Validation set accuracy: 0.922544\n",
      "Test set accuracy: 0.922544\n",
      "==> step 4700\n",
      "Train set accuracy: 0.871181\n",
      "Validation set accuracy: 0.924150\n",
      "Test set accuracy: 0.924150\n",
      "==> step 4800\n",
      "Train set accuracy: 0.873616\n",
      "Validation set accuracy: 0.928364\n",
      "Test set accuracy: 0.928364\n",
      "==> step 4900\n",
      "Train set accuracy: 0.868679\n",
      "Validation set accuracy: 0.924551\n",
      "Test set accuracy: 0.924551\n",
      "==> step 5000\n",
      "Train set accuracy: 0.869152\n",
      "Validation set accuracy: 0.925253\n",
      "Test set accuracy: 0.925253\n",
      "==> step 5100\n",
      "Train set accuracy: 0.868489\n",
      "Validation set accuracy: 0.925253\n",
      "Test set accuracy: 0.925253\n",
      "==> step 5200\n",
      "Train set accuracy: 0.863850\n",
      "Validation set accuracy: 0.919233\n",
      "Test set accuracy: 0.919233\n",
      "==> step 5300\n",
      "Train set accuracy: 0.875799\n",
      "Validation set accuracy: 0.930471\n",
      "Test set accuracy: 0.930471\n",
      "==> step 5400\n",
      "Train set accuracy: 0.876087\n",
      "Validation set accuracy: 0.931574\n",
      "Test set accuracy: 0.931574\n",
      "==> step 5500\n",
      "Train set accuracy: 0.873555\n",
      "Validation set accuracy: 0.925755\n",
      "Test set accuracy: 0.925755\n",
      "==> step 5600\n",
      "Train set accuracy: 0.874197\n",
      "Validation set accuracy: 0.928163\n",
      "Test set accuracy: 0.928163\n",
      "==> step 5700\n",
      "Train set accuracy: 0.874916\n",
      "Validation set accuracy: 0.927661\n",
      "Test set accuracy: 0.927661\n",
      "==> step 5800\n",
      "Train set accuracy: 0.876149\n",
      "Validation set accuracy: 0.930772\n",
      "Test set accuracy: 0.930772\n",
      "==> step 5900\n",
      "Train set accuracy: 0.874130\n",
      "Validation set accuracy: 0.926758\n",
      "Test set accuracy: 0.926758\n",
      "==> step 6000\n",
      "Train set accuracy: 0.875013\n",
      "Validation set accuracy: 0.924250\n",
      "Test set accuracy: 0.924250\n"
     ]
    }
   ],
   "source": [
    "with tf.Session(graph=graph, config=tf.ConfigProto(allow_soft_placement=True)) as session:\n",
    "    \n",
    "    # log the quality of the model\n",
    "    train_accuracy_log = tf.scalar_summary(\"train accuracy\", model_accuracy)\n",
    "    valid_accuracy_log = tf.scalar_summary(\"validation accuracy\", model_accuracy)\n",
    "    test_accuracy_log = tf.scalar_summary(\"test accuracy\", model_accuracy)\n",
    "    loss_log = tf.scalar_summary(\"loss\", loss)\n",
    "    \n",
    "    # Merge all the summaries and write them out to /tmp/mnist_logs\n",
    "    writer = tf.train.SummaryWriter(\"/tmp/udacity_logs\", session.graph_def)\n",
    "    tf.initialize_all_variables().run()\n",
    "    print(\"Initialized\")\n",
    "    \n",
    "    for step in range(1,num_steps+1):\n",
    "        if (step % 100 == 0):\n",
    "            print(\"==> step %d\" % step)\n",
    "            \n",
    "            #evaluate on the train set\n",
    "            feed_dict = {input_data : train_dataset, output_data : train_labels}\n",
    "            acc, acc_str = session.run([model_accuracy, train_accuracy_log], feed_dict=feed_dict)\n",
    "            writer.add_summary(acc_str, step)\n",
    "            print(\"Train set accuracy: %f\" % acc)\n",
    "            \n",
    "            #evaluate on the validation set\n",
    "            feed_dict = {input_data : valid_dataset, output_data : valid_labels}\n",
    "            acc, acc_str = session.run([model_accuracy, valid_accuracy_log], feed_dict=feed_dict)\n",
    "            writer.add_summary(acc_str, step)\n",
    "            print(\"Validation set accuracy: %f\" % acc)\n",
    "            \n",
    "            #evaluate on the test set\n",
    "            feed_dict = {input_data : test_dataset, output_data : test_labels}\n",
    "            acc, acc_str = session.run([model_accuracy, test_accuracy_log], feed_dict=feed_dict)\n",
    "            writer.add_summary(acc_str, step)\n",
    "            print(\"Test set accuracy: %f\" % acc)\n",
    "        else:\n",
    "            # Generate a minibatch.\n",
    "            offset = (step * batch_size) % (train_labels.shape[0] - batch_size)\n",
    "            batch_data = train_dataset[offset:(offset + batch_size), :]\n",
    "            batch_labels = train_labels[offset:(offset + batch_size), :]\n",
    "            feed_dict = {input_data : batch_data, output_data : batch_labels}\n",
    "            session.run(optimizer, feed_dict=feed_dict)"
   ]
  },
  {
   "cell_type": "code",
   "execution_count": 25,
   "metadata": {},
   "outputs": [],
   "source": [
    "train_plot = np.genfromtxt('/home/mcm/Documents/Workspace/hacks/ai/udacity/plots/train_accuracy.csv', delimiter=',',\n",
    "                           skip_header=1, names=['Wall time','Step','Value'])\n",
    "valid_plot = np.genfromtxt('/home/mcm/Documents/Workspace/hacks/ai/udacity/plots/valid_accuracy.csv', delimiter=',',\n",
    "                           skip_header=1, names=['Wall time','Step','Value'])\n",
    "test_plot = np.genfromtxt('/home/mcm/Documents/Workspace/hacks/ai/udacity/plots/test_accuracy.csv', delimiter=',',\n",
    "                           skip_header=1, names=['Wall time','Step','Value'])"
   ]
  },
  {
   "cell_type": "code",
   "execution_count": 28,
   "metadata": {},
   "outputs": [],
   "source": [
    "plt.plot(train_plot['Step'], train_plot['Value'], 'r--')\n",
    "plt.plot(valid_plot['Step'], valid_plot['Value'], 'bo')\n",
    "plt.plot(test_plot['Step'], test_plot['Value'], 'g^')\n",
    "plt.show()"
   ]
  },
  {
   "cell_type": "code",
   "execution_count": null,
   "metadata": {
    "collapsed": true
   },
   "outputs": [],
   "source": []
  }
 ],
 "metadata": {
  "colab": {
   "default_view": {},
   "name": "2_fullyconnected.ipynb",
   "provenance": [],
   "version": "0.3.2",
   "views": {}
  },
  "kernelspec": {
   "display_name": "Python 2",
   "language": "python",
   "name": "python2"
  },
  "language_info": {
   "codemirror_mode": {
    "name": "ipython",
    "version": 3
   },
   "file_extension": ".py",
   "mimetype": "text/x-python",
   "name": "python",
   "nbconvert_exporter": "python",
   "pygments_lexer": "ipython3",
   "version": "3.6.3"
  }
 },
 "nbformat": 4,
 "nbformat_minor": 1
}
